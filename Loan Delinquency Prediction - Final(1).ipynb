{
 "cells": [
  {
   "cell_type": "markdown",
   "metadata": {},
   "source": [
    "# LOAN DELINQUENCY PREDICTION"
   ]
  },
  {
   "cell_type": "markdown",
   "metadata": {},
   "source": [
    " ### Data Dictionary:\n",
    " - loan_id : Unique loan ID\n",
    " - source : Loan origination channel\n",
    " - financial_institution : Name of the bank\n",
    " - interest_rate : Loan interest rate\n",
    " - unpaidprincipalbal : Loan unpaid principal balance\n",
    " - loan_term : Loan term (in days)\n",
    " - origination_date : Loan origination date (YYYY-MM-DD)\n",
    " - firstpaymentdate : First instalment payment date\n",
    " - loantovalue : Loan to value ratio\n",
    " - numberofborrowers : Number of borrowers\n",
    " - debttoincome_ratio : Debt-to-income ratio\n",
    " - borrowercreditscore : Borrower credit score\n",
    " - loan_purpose : Loan purpose\n",
    " - insurance_percent : Loan Amount percent covered by insurance\n",
    " - co-borrowercreditscore :\tCo-borrower credit score\n",
    " - insurance_type :\t0 - Premium paid by borrower, 1 - Premium paid by Lender\n",
    " - m1 to m12 : Month-wise loan performance (deliquency in months)\n",
    " - m13 : target, loan deliquency status (0 = non deliquent, 1 = deliquent)"
   ]
  },
  {
   "cell_type": "markdown",
   "metadata": {},
   "source": [
    "## Understanding Banking terms\n",
    "- Debt to income ratio:\n",
    "> measures the amount of income a person or organization generates in order to service a debt. A low DTI ratio indicates sufficient income relative to debt servicing, and makes a borrower more attractive.\n",
    "\n",
    "- Loan to Value ratio : \n",
    "> A loan-to-value (LTV) ratio compares the amount of a loan you're hoping to borrow against the appraised value of the property you want to buy. Lenders use LTVs to determine how risky a loan is and whether they'll approve or deny it. A higher LTV ratio suggests more risk because there's a higher chance of default. The more money a lender gives you, the higher your LTV ratio and the more risk they’re taking. If you're considered a higher risk for the lender, this usually means that:\n",
    ">1. It’s harder to get approved for loans.\n",
    ">2. You might have to pay a higher interest rate.\n",
    ">3. You might have to pay additional costs, such as mortgage insurance.\n",
    "\n",
    "- Insurance percent\n",
    ">a provision in a health insurance contract stipulating that the insurer and insured will share covered losses in agreed proportions. For example, the insurer may be required to pay 80 percent of the insured's hospital costs with the insured responsible for the remainder.\n",
    ">>"
   ]
  },
  {
   "cell_type": "markdown",
   "metadata": {},
   "source": [
    "## Sections of the book\n",
    " [1. Importing libraries](#1)\n",
    " \n",
    " [2. Basic Data Study](#2)\n",
    " \n",
    " [3. Univariate analysis](#3)\n",
    " \n",
    " [4. Hypothesis Testing - Bivariate analysis](#4)\n",
    " \n",
    " [5. Data Processing & Feature Engineering](#5)\n",
    " \n",
    " [6. Sampling](#6)\n",
    " \n",
    " [7. Model Building](#7)\n",
    "  \n",
    " [8. Scores](#8)\n",
    " \n",
    " [9. Test Data Evaluation](#9)\n",
    " "
   ]
  },
  {
   "cell_type": "markdown",
   "metadata": {},
   "source": [
    "<a id = '1'></a>"
   ]
  },
  {
   "cell_type": "markdown",
   "metadata": {},
   "source": [
    "# IMPORTING LIBRARIES"
   ]
  },
  {
   "cell_type": "code",
   "execution_count": 1,
   "metadata": {},
   "outputs": [],
   "source": [
    "import pandas as pd\n",
    "import numpy as np\n",
    "import matplotlib.pyplot as plt\n",
    "%matplotlib inline\n",
    "import seaborn as sns\n",
    "import os\n",
    "from os.path import abspath, dirname\n",
    "from sklearn.metrics import confusion_matrix, precision_score, recall_score\n",
    "from sklearn.metrics import classification_report\n",
    "import warnings\n",
    "warnings.filterwarnings('ignore')"
   ]
  },
  {
   "cell_type": "markdown",
   "metadata": {},
   "source": [
    "<a id = '2'></a>"
   ]
  },
  {
   "cell_type": "markdown",
   "metadata": {},
   "source": [
    "# BASIC DATA STUDY"
   ]
  },
  {
   "cell_type": "code",
   "execution_count": 2,
   "metadata": {},
   "outputs": [],
   "source": [
    "#Reading the datasets\n",
    "\n",
    "train = pd.read_csv('train.csv')\n",
    "test = pd.read_csv('test.csv')"
   ]
  },
  {
   "cell_type": "code",
   "execution_count": 3,
   "metadata": {},
   "outputs": [
    {
     "data": {
      "text/plain": [
       "92846"
      ]
     },
     "execution_count": 3,
     "metadata": {},
     "output_type": "execute_result"
    }
   ],
   "source": [
    "train.loan_id.nunique()"
   ]
  },
  {
   "cell_type": "code",
   "execution_count": 4,
   "metadata": {},
   "outputs": [],
   "source": [
    "#Making a copy to keep the original data\n",
    "\n",
    "train_original = train.copy()\n",
    "test_original = test.copy()"
   ]
  },
  {
   "cell_type": "code",
   "execution_count": 5,
   "metadata": {},
   "outputs": [
    {
     "data": {
      "text/plain": [
       "(92846, 30)"
      ]
     },
     "execution_count": 5,
     "metadata": {},
     "output_type": "execute_result"
    }
   ],
   "source": [
    "#Checking the shape of the datasets\n",
    "\n",
    "train.shape"
   ]
  },
  {
   "cell_type": "code",
   "execution_count": 6,
   "metadata": {},
   "outputs": [
    {
     "data": {
      "text/plain": [
       "(23212, 29)"
      ]
     },
     "execution_count": 6,
     "metadata": {},
     "output_type": "execute_result"
    }
   ],
   "source": [
    "test.shape"
   ]
  },
  {
   "cell_type": "code",
   "execution_count": 7,
   "metadata": {},
   "outputs": [
    {
     "data": {
      "text/html": [
       "<div>\n",
       "<style scoped>\n",
       "    .dataframe tbody tr th:only-of-type {\n",
       "        vertical-align: middle;\n",
       "    }\n",
       "\n",
       "    .dataframe tbody tr th {\n",
       "        vertical-align: top;\n",
       "    }\n",
       "\n",
       "    .dataframe thead th {\n",
       "        text-align: right;\n",
       "    }\n",
       "</style>\n",
       "<table border=\"1\" class=\"dataframe\">\n",
       "  <thead>\n",
       "    <tr style=\"text-align: right;\">\n",
       "      <th></th>\n",
       "      <th>Unnamed: 0</th>\n",
       "      <th>loan_id</th>\n",
       "      <th>source</th>\n",
       "      <th>financial_institution</th>\n",
       "      <th>interest_rate</th>\n",
       "      <th>unpaid_principal_bal</th>\n",
       "      <th>loan_term</th>\n",
       "      <th>origination_date</th>\n",
       "      <th>first_payment_date</th>\n",
       "      <th>loan_to_value</th>\n",
       "      <th>...</th>\n",
       "      <th>m4</th>\n",
       "      <th>m5</th>\n",
       "      <th>m6</th>\n",
       "      <th>m7</th>\n",
       "      <th>m8</th>\n",
       "      <th>m9</th>\n",
       "      <th>m10</th>\n",
       "      <th>m11</th>\n",
       "      <th>m12</th>\n",
       "      <th>m13</th>\n",
       "    </tr>\n",
       "  </thead>\n",
       "  <tbody>\n",
       "    <tr>\n",
       "      <td>0</td>\n",
       "      <td>81041</td>\n",
       "      <td>861482495205</td>\n",
       "      <td>Y</td>\n",
       "      <td>Martinez, Duffy and Bird</td>\n",
       "      <td>3.375</td>\n",
       "      <td>272000</td>\n",
       "      <td>180</td>\n",
       "      <td>2012-01-01</td>\n",
       "      <td>03/2012</td>\n",
       "      <td>72</td>\n",
       "      <td>...</td>\n",
       "      <td>0</td>\n",
       "      <td>0</td>\n",
       "      <td>0</td>\n",
       "      <td>0</td>\n",
       "      <td>0</td>\n",
       "      <td>0</td>\n",
       "      <td>0</td>\n",
       "      <td>0</td>\n",
       "      <td>0</td>\n",
       "      <td>0</td>\n",
       "    </tr>\n",
       "    <tr>\n",
       "      <td>1</td>\n",
       "      <td>51021</td>\n",
       "      <td>173139140902</td>\n",
       "      <td>Y</td>\n",
       "      <td>Swanson, Newton and Miller</td>\n",
       "      <td>4.250</td>\n",
       "      <td>371000</td>\n",
       "      <td>360</td>\n",
       "      <td>2012-01-01</td>\n",
       "      <td>03/2012</td>\n",
       "      <td>95</td>\n",
       "      <td>...</td>\n",
       "      <td>0</td>\n",
       "      <td>0</td>\n",
       "      <td>0</td>\n",
       "      <td>0</td>\n",
       "      <td>0</td>\n",
       "      <td>0</td>\n",
       "      <td>0</td>\n",
       "      <td>0</td>\n",
       "      <td>0</td>\n",
       "      <td>0</td>\n",
       "    </tr>\n",
       "    <tr>\n",
       "      <td>2</td>\n",
       "      <td>83866</td>\n",
       "      <td>481942560913</td>\n",
       "      <td>Y</td>\n",
       "      <td>OTHER</td>\n",
       "      <td>4.500</td>\n",
       "      <td>90000</td>\n",
       "      <td>360</td>\n",
       "      <td>2012-01-01</td>\n",
       "      <td>03/2012</td>\n",
       "      <td>69</td>\n",
       "      <td>...</td>\n",
       "      <td>0</td>\n",
       "      <td>0</td>\n",
       "      <td>0</td>\n",
       "      <td>0</td>\n",
       "      <td>0</td>\n",
       "      <td>0</td>\n",
       "      <td>0</td>\n",
       "      <td>0</td>\n",
       "      <td>0</td>\n",
       "      <td>0</td>\n",
       "    </tr>\n",
       "    <tr>\n",
       "      <td>3</td>\n",
       "      <td>92311</td>\n",
       "      <td>676780245612</td>\n",
       "      <td>Y</td>\n",
       "      <td>Turner, Baldwin and Rhodes</td>\n",
       "      <td>4.500</td>\n",
       "      <td>47000</td>\n",
       "      <td>240</td>\n",
       "      <td>2012-02-01</td>\n",
       "      <td>04/2012</td>\n",
       "      <td>75</td>\n",
       "      <td>...</td>\n",
       "      <td>1</td>\n",
       "      <td>0</td>\n",
       "      <td>0</td>\n",
       "      <td>0</td>\n",
       "      <td>0</td>\n",
       "      <td>0</td>\n",
       "      <td>0</td>\n",
       "      <td>0</td>\n",
       "      <td>0</td>\n",
       "      <td>0</td>\n",
       "    </tr>\n",
       "    <tr>\n",
       "      <td>4</td>\n",
       "      <td>72274</td>\n",
       "      <td>433043514697</td>\n",
       "      <td>X</td>\n",
       "      <td>OTHER</td>\n",
       "      <td>4.875</td>\n",
       "      <td>177000</td>\n",
       "      <td>360</td>\n",
       "      <td>2012-01-01</td>\n",
       "      <td>03/2012</td>\n",
       "      <td>80</td>\n",
       "      <td>...</td>\n",
       "      <td>0</td>\n",
       "      <td>0</td>\n",
       "      <td>0</td>\n",
       "      <td>0</td>\n",
       "      <td>0</td>\n",
       "      <td>0</td>\n",
       "      <td>0</td>\n",
       "      <td>0</td>\n",
       "      <td>0</td>\n",
       "      <td>0</td>\n",
       "    </tr>\n",
       "  </tbody>\n",
       "</table>\n",
       "<p>5 rows × 30 columns</p>\n",
       "</div>"
      ],
      "text/plain": [
       "   Unnamed: 0       loan_id source       financial_institution  interest_rate  \\\n",
       "0       81041  861482495205      Y    Martinez, Duffy and Bird          3.375   \n",
       "1       51021  173139140902      Y  Swanson, Newton and Miller          4.250   \n",
       "2       83866  481942560913      Y                       OTHER          4.500   \n",
       "3       92311  676780245612      Y  Turner, Baldwin and Rhodes          4.500   \n",
       "4       72274  433043514697      X                       OTHER          4.875   \n",
       "\n",
       "   unpaid_principal_bal  loan_term origination_date first_payment_date  \\\n",
       "0                272000        180       2012-01-01            03/2012   \n",
       "1                371000        360       2012-01-01            03/2012   \n",
       "2                 90000        360       2012-01-01            03/2012   \n",
       "3                 47000        240       2012-02-01            04/2012   \n",
       "4                177000        360       2012-01-01            03/2012   \n",
       "\n",
       "   loan_to_value  ...  m4  m5  m6 m7  m8  m9  m10  m11  m12  m13  \n",
       "0             72  ...   0   0   0  0   0   0    0    0    0    0  \n",
       "1             95  ...   0   0   0  0   0   0    0    0    0    0  \n",
       "2             69  ...   0   0   0  0   0   0    0    0    0    0  \n",
       "3             75  ...   1   0   0  0   0   0    0    0    0    0  \n",
       "4             80  ...   0   0   0  0   0   0    0    0    0    0  \n",
       "\n",
       "[5 rows x 30 columns]"
      ]
     },
     "execution_count": 7,
     "metadata": {},
     "output_type": "execute_result"
    }
   ],
   "source": [
    "train.head()"
   ]
  },
  {
   "cell_type": "code",
   "execution_count": 8,
   "metadata": {},
   "outputs": [
    {
     "data": {
      "text/html": [
       "<div>\n",
       "<style scoped>\n",
       "    .dataframe tbody tr th:only-of-type {\n",
       "        vertical-align: middle;\n",
       "    }\n",
       "\n",
       "    .dataframe tbody tr th {\n",
       "        vertical-align: top;\n",
       "    }\n",
       "\n",
       "    .dataframe thead th {\n",
       "        text-align: right;\n",
       "    }\n",
       "</style>\n",
       "<table border=\"1\" class=\"dataframe\">\n",
       "  <thead>\n",
       "    <tr style=\"text-align: right;\">\n",
       "      <th></th>\n",
       "      <th>Unnamed: 0</th>\n",
       "      <th>loan_id</th>\n",
       "      <th>source</th>\n",
       "      <th>financial_institution</th>\n",
       "      <th>interest_rate</th>\n",
       "      <th>unpaid_principal_bal</th>\n",
       "      <th>loan_term</th>\n",
       "      <th>origination_date</th>\n",
       "      <th>first_payment_date</th>\n",
       "      <th>loan_to_value</th>\n",
       "      <th>...</th>\n",
       "      <th>m4</th>\n",
       "      <th>m5</th>\n",
       "      <th>m6</th>\n",
       "      <th>m7</th>\n",
       "      <th>m8</th>\n",
       "      <th>m9</th>\n",
       "      <th>m10</th>\n",
       "      <th>m11</th>\n",
       "      <th>m12</th>\n",
       "      <th>m13</th>\n",
       "    </tr>\n",
       "  </thead>\n",
       "  <tbody>\n",
       "    <tr>\n",
       "      <td>92841</td>\n",
       "      <td>64877</td>\n",
       "      <td>952892082095</td>\n",
       "      <td>X</td>\n",
       "      <td>Browning-Hart</td>\n",
       "      <td>3.875</td>\n",
       "      <td>68000</td>\n",
       "      <td>180</td>\n",
       "      <td>2012-02-01</td>\n",
       "      <td>04/2012</td>\n",
       "      <td>57</td>\n",
       "      <td>...</td>\n",
       "      <td>0</td>\n",
       "      <td>0</td>\n",
       "      <td>0</td>\n",
       "      <td>0</td>\n",
       "      <td>0</td>\n",
       "      <td>0</td>\n",
       "      <td>0</td>\n",
       "      <td>0</td>\n",
       "      <td>0</td>\n",
       "      <td>0</td>\n",
       "    </tr>\n",
       "    <tr>\n",
       "      <td>92842</td>\n",
       "      <td>4714</td>\n",
       "      <td>405456561770</td>\n",
       "      <td>X</td>\n",
       "      <td>OTHER</td>\n",
       "      <td>3.000</td>\n",
       "      <td>67000</td>\n",
       "      <td>180</td>\n",
       "      <td>2012-02-01</td>\n",
       "      <td>04/2012</td>\n",
       "      <td>35</td>\n",
       "      <td>...</td>\n",
       "      <td>0</td>\n",
       "      <td>0</td>\n",
       "      <td>0</td>\n",
       "      <td>0</td>\n",
       "      <td>0</td>\n",
       "      <td>0</td>\n",
       "      <td>0</td>\n",
       "      <td>0</td>\n",
       "      <td>0</td>\n",
       "      <td>0</td>\n",
       "    </tr>\n",
       "    <tr>\n",
       "      <td>92843</td>\n",
       "      <td>108500</td>\n",
       "      <td>643283061619</td>\n",
       "      <td>X</td>\n",
       "      <td>OTHER</td>\n",
       "      <td>4.500</td>\n",
       "      <td>81000</td>\n",
       "      <td>360</td>\n",
       "      <td>2012-02-01</td>\n",
       "      <td>04/2012</td>\n",
       "      <td>75</td>\n",
       "      <td>...</td>\n",
       "      <td>0</td>\n",
       "      <td>0</td>\n",
       "      <td>0</td>\n",
       "      <td>0</td>\n",
       "      <td>0</td>\n",
       "      <td>0</td>\n",
       "      <td>0</td>\n",
       "      <td>0</td>\n",
       "      <td>0</td>\n",
       "      <td>0</td>\n",
       "    </tr>\n",
       "    <tr>\n",
       "      <td>92844</td>\n",
       "      <td>41187</td>\n",
       "      <td>450225782159</td>\n",
       "      <td>X</td>\n",
       "      <td>OTHER</td>\n",
       "      <td>3.875</td>\n",
       "      <td>115000</td>\n",
       "      <td>180</td>\n",
       "      <td>2012-02-01</td>\n",
       "      <td>04/2012</td>\n",
       "      <td>72</td>\n",
       "      <td>...</td>\n",
       "      <td>0</td>\n",
       "      <td>0</td>\n",
       "      <td>0</td>\n",
       "      <td>0</td>\n",
       "      <td>0</td>\n",
       "      <td>0</td>\n",
       "      <td>0</td>\n",
       "      <td>0</td>\n",
       "      <td>0</td>\n",
       "      <td>0</td>\n",
       "    </tr>\n",
       "    <tr>\n",
       "      <td>92845</td>\n",
       "      <td>31626</td>\n",
       "      <td>632833546025</td>\n",
       "      <td>X</td>\n",
       "      <td>OTHER</td>\n",
       "      <td>3.500</td>\n",
       "      <td>77000</td>\n",
       "      <td>180</td>\n",
       "      <td>2012-02-01</td>\n",
       "      <td>04/2012</td>\n",
       "      <td>75</td>\n",
       "      <td>...</td>\n",
       "      <td>0</td>\n",
       "      <td>0</td>\n",
       "      <td>0</td>\n",
       "      <td>0</td>\n",
       "      <td>0</td>\n",
       "      <td>0</td>\n",
       "      <td>0</td>\n",
       "      <td>0</td>\n",
       "      <td>0</td>\n",
       "      <td>0</td>\n",
       "    </tr>\n",
       "  </tbody>\n",
       "</table>\n",
       "<p>5 rows × 30 columns</p>\n",
       "</div>"
      ],
      "text/plain": [
       "       Unnamed: 0       loan_id source financial_institution  interest_rate  \\\n",
       "92841       64877  952892082095      X         Browning-Hart          3.875   \n",
       "92842        4714  405456561770      X                 OTHER          3.000   \n",
       "92843      108500  643283061619      X                 OTHER          4.500   \n",
       "92844       41187  450225782159      X                 OTHER          3.875   \n",
       "92845       31626  632833546025      X                 OTHER          3.500   \n",
       "\n",
       "       unpaid_principal_bal  loan_term origination_date first_payment_date  \\\n",
       "92841                 68000        180       2012-02-01            04/2012   \n",
       "92842                 67000        180       2012-02-01            04/2012   \n",
       "92843                 81000        360       2012-02-01            04/2012   \n",
       "92844                115000        180       2012-02-01            04/2012   \n",
       "92845                 77000        180       2012-02-01            04/2012   \n",
       "\n",
       "       loan_to_value  ...  m4  m5  m6 m7  m8  m9  m10  m11  m12  m13  \n",
       "92841             57  ...   0   0   0  0   0   0    0    0    0    0  \n",
       "92842             35  ...   0   0   0  0   0   0    0    0    0    0  \n",
       "92843             75  ...   0   0   0  0   0   0    0    0    0    0  \n",
       "92844             72  ...   0   0   0  0   0   0    0    0    0    0  \n",
       "92845             75  ...   0   0   0  0   0   0    0    0    0    0  \n",
       "\n",
       "[5 rows x 30 columns]"
      ]
     },
     "execution_count": 8,
     "metadata": {},
     "output_type": "execute_result"
    }
   ],
   "source": [
    "train.tail()"
   ]
  },
  {
   "cell_type": "code",
   "execution_count": 9,
   "metadata": {},
   "outputs": [],
   "source": [
    "#The unnamed column can be considered as an ID column - used in submission file\n",
    "\n",
    "train_ID = train['Unnamed: 0']\n",
    "test_ID = test['Unnamed: 0']"
   ]
  },
  {
   "cell_type": "code",
   "execution_count": 10,
   "metadata": {},
   "outputs": [],
   "source": [
    "#Can be dropped as it is not used in model building\n",
    "\n",
    "train.drop('Unnamed: 0', axis = 1, inplace = True)\n",
    "test.drop('Unnamed: 0', axis = 1, inplace = True)"
   ]
  },
  {
   "cell_type": "code",
   "execution_count": 11,
   "metadata": {},
   "outputs": [
    {
     "data": {
      "text/html": [
       "<div>\n",
       "<style scoped>\n",
       "    .dataframe tbody tr th:only-of-type {\n",
       "        vertical-align: middle;\n",
       "    }\n",
       "\n",
       "    .dataframe tbody tr th {\n",
       "        vertical-align: top;\n",
       "    }\n",
       "\n",
       "    .dataframe thead th {\n",
       "        text-align: right;\n",
       "    }\n",
       "</style>\n",
       "<table border=\"1\" class=\"dataframe\">\n",
       "  <thead>\n",
       "    <tr style=\"text-align: right;\">\n",
       "      <th></th>\n",
       "      <th>Null Values</th>\n",
       "      <th>Data Type</th>\n",
       "      <th>Unique Values</th>\n",
       "    </tr>\n",
       "  </thead>\n",
       "  <tbody>\n",
       "    <tr>\n",
       "      <td>loan_id</td>\n",
       "      <td>0</td>\n",
       "      <td>int64</td>\n",
       "      <td>92846</td>\n",
       "    </tr>\n",
       "    <tr>\n",
       "      <td>source</td>\n",
       "      <td>0</td>\n",
       "      <td>object</td>\n",
       "      <td>3</td>\n",
       "    </tr>\n",
       "    <tr>\n",
       "      <td>financial_institution</td>\n",
       "      <td>0</td>\n",
       "      <td>object</td>\n",
       "      <td>19</td>\n",
       "    </tr>\n",
       "    <tr>\n",
       "      <td>interest_rate</td>\n",
       "      <td>0</td>\n",
       "      <td>float64</td>\n",
       "      <td>813</td>\n",
       "    </tr>\n",
       "    <tr>\n",
       "      <td>unpaid_principal_bal</td>\n",
       "      <td>0</td>\n",
       "      <td>int64</td>\n",
       "      <td>637</td>\n",
       "    </tr>\n",
       "    <tr>\n",
       "      <td>loan_term</td>\n",
       "      <td>0</td>\n",
       "      <td>int64</td>\n",
       "      <td>127</td>\n",
       "    </tr>\n",
       "    <tr>\n",
       "      <td>origination_date</td>\n",
       "      <td>0</td>\n",
       "      <td>object</td>\n",
       "      <td>3</td>\n",
       "    </tr>\n",
       "    <tr>\n",
       "      <td>first_payment_date</td>\n",
       "      <td>0</td>\n",
       "      <td>object</td>\n",
       "      <td>4</td>\n",
       "    </tr>\n",
       "    <tr>\n",
       "      <td>loan_to_value</td>\n",
       "      <td>0</td>\n",
       "      <td>int64</td>\n",
       "      <td>92</td>\n",
       "    </tr>\n",
       "    <tr>\n",
       "      <td>number_of_borrowers</td>\n",
       "      <td>0</td>\n",
       "      <td>float64</td>\n",
       "      <td>2</td>\n",
       "    </tr>\n",
       "    <tr>\n",
       "      <td>debt_to_income_ratio</td>\n",
       "      <td>0</td>\n",
       "      <td>float64</td>\n",
       "      <td>57</td>\n",
       "    </tr>\n",
       "    <tr>\n",
       "      <td>borrower_credit_score</td>\n",
       "      <td>0</td>\n",
       "      <td>float64</td>\n",
       "      <td>219</td>\n",
       "    </tr>\n",
       "    <tr>\n",
       "      <td>loan_purpose</td>\n",
       "      <td>0</td>\n",
       "      <td>object</td>\n",
       "      <td>3</td>\n",
       "    </tr>\n",
       "    <tr>\n",
       "      <td>insurance_percent</td>\n",
       "      <td>0</td>\n",
       "      <td>float64</td>\n",
       "      <td>13</td>\n",
       "    </tr>\n",
       "    <tr>\n",
       "      <td>co-borrower_credit_score</td>\n",
       "      <td>0</td>\n",
       "      <td>float64</td>\n",
       "      <td>216</td>\n",
       "    </tr>\n",
       "    <tr>\n",
       "      <td>insurance_type</td>\n",
       "      <td>0</td>\n",
       "      <td>float64</td>\n",
       "      <td>2</td>\n",
       "    </tr>\n",
       "    <tr>\n",
       "      <td>m1</td>\n",
       "      <td>0</td>\n",
       "      <td>int64</td>\n",
       "      <td>4</td>\n",
       "    </tr>\n",
       "    <tr>\n",
       "      <td>m2</td>\n",
       "      <td>0</td>\n",
       "      <td>int64</td>\n",
       "      <td>4</td>\n",
       "    </tr>\n",
       "    <tr>\n",
       "      <td>m3</td>\n",
       "      <td>0</td>\n",
       "      <td>int64</td>\n",
       "      <td>5</td>\n",
       "    </tr>\n",
       "    <tr>\n",
       "      <td>m4</td>\n",
       "      <td>0</td>\n",
       "      <td>int64</td>\n",
       "      <td>5</td>\n",
       "    </tr>\n",
       "    <tr>\n",
       "      <td>m5</td>\n",
       "      <td>0</td>\n",
       "      <td>int64</td>\n",
       "      <td>7</td>\n",
       "    </tr>\n",
       "    <tr>\n",
       "      <td>m6</td>\n",
       "      <td>0</td>\n",
       "      <td>int64</td>\n",
       "      <td>7</td>\n",
       "    </tr>\n",
       "    <tr>\n",
       "      <td>m7</td>\n",
       "      <td>0</td>\n",
       "      <td>int64</td>\n",
       "      <td>8</td>\n",
       "    </tr>\n",
       "    <tr>\n",
       "      <td>m8</td>\n",
       "      <td>0</td>\n",
       "      <td>int64</td>\n",
       "      <td>9</td>\n",
       "    </tr>\n",
       "    <tr>\n",
       "      <td>m9</td>\n",
       "      <td>0</td>\n",
       "      <td>int64</td>\n",
       "      <td>10</td>\n",
       "    </tr>\n",
       "    <tr>\n",
       "      <td>m10</td>\n",
       "      <td>0</td>\n",
       "      <td>int64</td>\n",
       "      <td>11</td>\n",
       "    </tr>\n",
       "    <tr>\n",
       "      <td>m11</td>\n",
       "      <td>0</td>\n",
       "      <td>int64</td>\n",
       "      <td>12</td>\n",
       "    </tr>\n",
       "    <tr>\n",
       "      <td>m12</td>\n",
       "      <td>0</td>\n",
       "      <td>int64</td>\n",
       "      <td>12</td>\n",
       "    </tr>\n",
       "    <tr>\n",
       "      <td>m13</td>\n",
       "      <td>0</td>\n",
       "      <td>int64</td>\n",
       "      <td>2</td>\n",
       "    </tr>\n",
       "  </tbody>\n",
       "</table>\n",
       "</div>"
      ],
      "text/plain": [
       "                          Null Values Data Type  Unique Values\n",
       "loan_id                             0     int64          92846\n",
       "source                              0    object              3\n",
       "financial_institution               0    object             19\n",
       "interest_rate                       0   float64            813\n",
       "unpaid_principal_bal                0     int64            637\n",
       "loan_term                           0     int64            127\n",
       "origination_date                    0    object              3\n",
       "first_payment_date                  0    object              4\n",
       "loan_to_value                       0     int64             92\n",
       "number_of_borrowers                 0   float64              2\n",
       "debt_to_income_ratio                0   float64             57\n",
       "borrower_credit_score               0   float64            219\n",
       "loan_purpose                        0    object              3\n",
       "insurance_percent                   0   float64             13\n",
       "co-borrower_credit_score            0   float64            216\n",
       "insurance_type                      0   float64              2\n",
       "m1                                  0     int64              4\n",
       "m2                                  0     int64              4\n",
       "m3                                  0     int64              5\n",
       "m4                                  0     int64              5\n",
       "m5                                  0     int64              7\n",
       "m6                                  0     int64              7\n",
       "m7                                  0     int64              8\n",
       "m8                                  0     int64              9\n",
       "m9                                  0     int64             10\n",
       "m10                                 0     int64             11\n",
       "m11                                 0     int64             12\n",
       "m12                                 0     int64             12\n",
       "m13                                 0     int64              2"
      ]
     },
     "execution_count": 11,
     "metadata": {},
     "output_type": "execute_result"
    }
   ],
   "source": [
    "def basic_details(df):\n",
    "    b = pd.DataFrame()\n",
    "    b['Null Values'] = df.isnull().sum()\n",
    "    b['Data Type'] = df.dtypes\n",
    "    b['Unique Values'] = df.nunique()\n",
    "    return b\n",
    "basic_details(train)"
   ]
  },
  {
   "cell_type": "code",
   "execution_count": 12,
   "metadata": {
    "scrolled": true
   },
   "outputs": [
    {
     "name": "stdout",
     "output_type": "stream",
     "text": [
      "Number of numerical columns: 24\n",
      "Number of categorical columns: 5\n"
     ]
    }
   ],
   "source": [
    "#Storing numerical columns and categorical columns in separate variables\n",
    "\n",
    "num_col_train = train.select_dtypes(include=[np.number])\n",
    "cat_col_train = train.select_dtypes(exclude=[np.number])\n",
    "print('Number of numerical columns: {}'.format(len(num_col_train.columns)))\n",
    "print('Number of categorical columns: {}'.format(len(cat_col_train.columns)))"
   ]
  },
  {
   "cell_type": "code",
   "execution_count": 13,
   "metadata": {},
   "outputs": [],
   "source": [
    "#For test dataset\n",
    "\n",
    "num_col_test = test.select_dtypes(include=[np.number])\n",
    "cat_col_test = test.select_dtypes(exclude=[np.number])"
   ]
  },
  {
   "cell_type": "code",
   "execution_count": 14,
   "metadata": {},
   "outputs": [
    {
     "data": {
      "text/html": [
       "<div>\n",
       "<style scoped>\n",
       "    .dataframe tbody tr th:only-of-type {\n",
       "        vertical-align: middle;\n",
       "    }\n",
       "\n",
       "    .dataframe tbody tr th {\n",
       "        vertical-align: top;\n",
       "    }\n",
       "\n",
       "    .dataframe thead th {\n",
       "        text-align: right;\n",
       "    }\n",
       "</style>\n",
       "<table border=\"1\" class=\"dataframe\">\n",
       "  <thead>\n",
       "    <tr style=\"text-align: right;\">\n",
       "      <th></th>\n",
       "      <th>loan_id</th>\n",
       "      <th>interest_rate</th>\n",
       "      <th>unpaid_principal_bal</th>\n",
       "      <th>loan_term</th>\n",
       "      <th>loan_to_value</th>\n",
       "      <th>number_of_borrowers</th>\n",
       "      <th>debt_to_income_ratio</th>\n",
       "      <th>borrower_credit_score</th>\n",
       "      <th>insurance_percent</th>\n",
       "      <th>co-borrower_credit_score</th>\n",
       "      <th>...</th>\n",
       "      <th>m4</th>\n",
       "      <th>m5</th>\n",
       "      <th>m6</th>\n",
       "      <th>m7</th>\n",
       "      <th>m8</th>\n",
       "      <th>m9</th>\n",
       "      <th>m10</th>\n",
       "      <th>m11</th>\n",
       "      <th>m12</th>\n",
       "      <th>m13</th>\n",
       "    </tr>\n",
       "  </thead>\n",
       "  <tbody>\n",
       "    <tr>\n",
       "      <td>count</td>\n",
       "      <td>9.284600e+04</td>\n",
       "      <td>92846.000000</td>\n",
       "      <td>92846.000000</td>\n",
       "      <td>92846.000000</td>\n",
       "      <td>92846.000000</td>\n",
       "      <td>92846.000000</td>\n",
       "      <td>92846.000000</td>\n",
       "      <td>92846.000000</td>\n",
       "      <td>92846.000000</td>\n",
       "      <td>92846.000000</td>\n",
       "      <td>...</td>\n",
       "      <td>92846.000000</td>\n",
       "      <td>92846.000000</td>\n",
       "      <td>92846.000000</td>\n",
       "      <td>92846.000000</td>\n",
       "      <td>92846.000000</td>\n",
       "      <td>92846.000000</td>\n",
       "      <td>92846.000000</td>\n",
       "      <td>92846.000000</td>\n",
       "      <td>92846.000000</td>\n",
       "      <td>92846.000000</td>\n",
       "    </tr>\n",
       "    <tr>\n",
       "      <td>mean</td>\n",
       "      <td>5.491631e+11</td>\n",
       "      <td>3.869010</td>\n",
       "      <td>208047.325679</td>\n",
       "      <td>292.362816</td>\n",
       "      <td>67.424606</td>\n",
       "      <td>1.592583</td>\n",
       "      <td>30.737792</td>\n",
       "      <td>769.963348</td>\n",
       "      <td>2.801338</td>\n",
       "      <td>459.209982</td>\n",
       "      <td>...</td>\n",
       "      <td>0.001993</td>\n",
       "      <td>0.003231</td>\n",
       "      <td>0.003167</td>\n",
       "      <td>0.003845</td>\n",
       "      <td>0.004577</td>\n",
       "      <td>0.005256</td>\n",
       "      <td>0.006484</td>\n",
       "      <td>0.007098</td>\n",
       "      <td>0.007916</td>\n",
       "      <td>0.005439</td>\n",
       "    </tr>\n",
       "    <tr>\n",
       "      <td>std</td>\n",
       "      <td>2.597886e+11</td>\n",
       "      <td>0.461126</td>\n",
       "      <td>114625.547432</td>\n",
       "      <td>89.723293</td>\n",
       "      <td>17.326684</td>\n",
       "      <td>0.491356</td>\n",
       "      <td>9.730489</td>\n",
       "      <td>42.311377</td>\n",
       "      <td>8.123954</td>\n",
       "      <td>382.068572</td>\n",
       "      <td>...</td>\n",
       "      <td>0.053589</td>\n",
       "      <td>0.074190</td>\n",
       "      <td>0.080327</td>\n",
       "      <td>0.091753</td>\n",
       "      <td>0.107406</td>\n",
       "      <td>0.123994</td>\n",
       "      <td>0.145742</td>\n",
       "      <td>0.158699</td>\n",
       "      <td>0.171575</td>\n",
       "      <td>0.073550</td>\n",
       "    </tr>\n",
       "    <tr>\n",
       "      <td>min</td>\n",
       "      <td>1.000064e+11</td>\n",
       "      <td>2.250000</td>\n",
       "      <td>14000.000000</td>\n",
       "      <td>60.000000</td>\n",
       "      <td>6.000000</td>\n",
       "      <td>1.000000</td>\n",
       "      <td>1.000000</td>\n",
       "      <td>0.000000</td>\n",
       "      <td>0.000000</td>\n",
       "      <td>0.000000</td>\n",
       "      <td>...</td>\n",
       "      <td>0.000000</td>\n",
       "      <td>0.000000</td>\n",
       "      <td>0.000000</td>\n",
       "      <td>0.000000</td>\n",
       "      <td>0.000000</td>\n",
       "      <td>0.000000</td>\n",
       "      <td>0.000000</td>\n",
       "      <td>0.000000</td>\n",
       "      <td>0.000000</td>\n",
       "      <td>0.000000</td>\n",
       "    </tr>\n",
       "    <tr>\n",
       "      <td>25%</td>\n",
       "      <td>3.241490e+11</td>\n",
       "      <td>3.500000</td>\n",
       "      <td>120000.000000</td>\n",
       "      <td>180.000000</td>\n",
       "      <td>57.000000</td>\n",
       "      <td>1.000000</td>\n",
       "      <td>23.000000</td>\n",
       "      <td>751.000000</td>\n",
       "      <td>0.000000</td>\n",
       "      <td>0.000000</td>\n",
       "      <td>...</td>\n",
       "      <td>0.000000</td>\n",
       "      <td>0.000000</td>\n",
       "      <td>0.000000</td>\n",
       "      <td>0.000000</td>\n",
       "      <td>0.000000</td>\n",
       "      <td>0.000000</td>\n",
       "      <td>0.000000</td>\n",
       "      <td>0.000000</td>\n",
       "      <td>0.000000</td>\n",
       "      <td>0.000000</td>\n",
       "    </tr>\n",
       "    <tr>\n",
       "      <td>50%</td>\n",
       "      <td>5.483891e+11</td>\n",
       "      <td>3.875000</td>\n",
       "      <td>182000.000000</td>\n",
       "      <td>360.000000</td>\n",
       "      <td>72.000000</td>\n",
       "      <td>2.000000</td>\n",
       "      <td>31.000000</td>\n",
       "      <td>782.000000</td>\n",
       "      <td>0.000000</td>\n",
       "      <td>740.000000</td>\n",
       "      <td>...</td>\n",
       "      <td>0.000000</td>\n",
       "      <td>0.000000</td>\n",
       "      <td>0.000000</td>\n",
       "      <td>0.000000</td>\n",
       "      <td>0.000000</td>\n",
       "      <td>0.000000</td>\n",
       "      <td>0.000000</td>\n",
       "      <td>0.000000</td>\n",
       "      <td>0.000000</td>\n",
       "      <td>0.000000</td>\n",
       "    </tr>\n",
       "    <tr>\n",
       "      <td>75%</td>\n",
       "      <td>7.740564e+11</td>\n",
       "      <td>4.125000</td>\n",
       "      <td>278000.000000</td>\n",
       "      <td>360.000000</td>\n",
       "      <td>80.000000</td>\n",
       "      <td>2.000000</td>\n",
       "      <td>39.000000</td>\n",
       "      <td>800.000000</td>\n",
       "      <td>0.000000</td>\n",
       "      <td>791.000000</td>\n",
       "      <td>...</td>\n",
       "      <td>0.000000</td>\n",
       "      <td>0.000000</td>\n",
       "      <td>0.000000</td>\n",
       "      <td>0.000000</td>\n",
       "      <td>0.000000</td>\n",
       "      <td>0.000000</td>\n",
       "      <td>0.000000</td>\n",
       "      <td>0.000000</td>\n",
       "      <td>0.000000</td>\n",
       "      <td>0.000000</td>\n",
       "    </tr>\n",
       "    <tr>\n",
       "      <td>max</td>\n",
       "      <td>9.999971e+11</td>\n",
       "      <td>6.750000</td>\n",
       "      <td>915000.000000</td>\n",
       "      <td>360.000000</td>\n",
       "      <td>97.000000</td>\n",
       "      <td>2.000000</td>\n",
       "      <td>64.000000</td>\n",
       "      <td>840.000000</td>\n",
       "      <td>40.000000</td>\n",
       "      <td>836.000000</td>\n",
       "      <td>...</td>\n",
       "      <td>5.000000</td>\n",
       "      <td>6.000000</td>\n",
       "      <td>7.000000</td>\n",
       "      <td>8.000000</td>\n",
       "      <td>9.000000</td>\n",
       "      <td>10.000000</td>\n",
       "      <td>11.000000</td>\n",
       "      <td>11.000000</td>\n",
       "      <td>11.000000</td>\n",
       "      <td>1.000000</td>\n",
       "    </tr>\n",
       "  </tbody>\n",
       "</table>\n",
       "<p>8 rows × 24 columns</p>\n",
       "</div>"
      ],
      "text/plain": [
       "            loan_id  interest_rate  unpaid_principal_bal     loan_term  \\\n",
       "count  9.284600e+04   92846.000000          92846.000000  92846.000000   \n",
       "mean   5.491631e+11       3.869010         208047.325679    292.362816   \n",
       "std    2.597886e+11       0.461126         114625.547432     89.723293   \n",
       "min    1.000064e+11       2.250000          14000.000000     60.000000   \n",
       "25%    3.241490e+11       3.500000         120000.000000    180.000000   \n",
       "50%    5.483891e+11       3.875000         182000.000000    360.000000   \n",
       "75%    7.740564e+11       4.125000         278000.000000    360.000000   \n",
       "max    9.999971e+11       6.750000         915000.000000    360.000000   \n",
       "\n",
       "       loan_to_value  number_of_borrowers  debt_to_income_ratio  \\\n",
       "count   92846.000000         92846.000000          92846.000000   \n",
       "mean       67.424606             1.592583             30.737792   \n",
       "std        17.326684             0.491356              9.730489   \n",
       "min         6.000000             1.000000              1.000000   \n",
       "25%        57.000000             1.000000             23.000000   \n",
       "50%        72.000000             2.000000             31.000000   \n",
       "75%        80.000000             2.000000             39.000000   \n",
       "max        97.000000             2.000000             64.000000   \n",
       "\n",
       "       borrower_credit_score  insurance_percent  co-borrower_credit_score  \\\n",
       "count           92846.000000       92846.000000              92846.000000   \n",
       "mean              769.963348           2.801338                459.209982   \n",
       "std                42.311377           8.123954                382.068572   \n",
       "min                 0.000000           0.000000                  0.000000   \n",
       "25%               751.000000           0.000000                  0.000000   \n",
       "50%               782.000000           0.000000                740.000000   \n",
       "75%               800.000000           0.000000                791.000000   \n",
       "max               840.000000          40.000000                836.000000   \n",
       "\n",
       "       ...            m4            m5            m6            m7  \\\n",
       "count  ...  92846.000000  92846.000000  92846.000000  92846.000000   \n",
       "mean   ...      0.001993      0.003231      0.003167      0.003845   \n",
       "std    ...      0.053589      0.074190      0.080327      0.091753   \n",
       "min    ...      0.000000      0.000000      0.000000      0.000000   \n",
       "25%    ...      0.000000      0.000000      0.000000      0.000000   \n",
       "50%    ...      0.000000      0.000000      0.000000      0.000000   \n",
       "75%    ...      0.000000      0.000000      0.000000      0.000000   \n",
       "max    ...      5.000000      6.000000      7.000000      8.000000   \n",
       "\n",
       "                 m8            m9           m10           m11           m12  \\\n",
       "count  92846.000000  92846.000000  92846.000000  92846.000000  92846.000000   \n",
       "mean       0.004577      0.005256      0.006484      0.007098      0.007916   \n",
       "std        0.107406      0.123994      0.145742      0.158699      0.171575   \n",
       "min        0.000000      0.000000      0.000000      0.000000      0.000000   \n",
       "25%        0.000000      0.000000      0.000000      0.000000      0.000000   \n",
       "50%        0.000000      0.000000      0.000000      0.000000      0.000000   \n",
       "75%        0.000000      0.000000      0.000000      0.000000      0.000000   \n",
       "max        9.000000     10.000000     11.000000     11.000000     11.000000   \n",
       "\n",
       "                m13  \n",
       "count  92846.000000  \n",
       "mean       0.005439  \n",
       "std        0.073550  \n",
       "min        0.000000  \n",
       "25%        0.000000  \n",
       "50%        0.000000  \n",
       "75%        0.000000  \n",
       "max        1.000000  \n",
       "\n",
       "[8 rows x 24 columns]"
      ]
     },
     "execution_count": 14,
     "metadata": {},
     "output_type": "execute_result"
    }
   ],
   "source": [
    "train.describe()"
   ]
  },
  {
   "cell_type": "code",
   "execution_count": 15,
   "metadata": {},
   "outputs": [
    {
     "data": {
      "text/html": [
       "<div>\n",
       "<style scoped>\n",
       "    .dataframe tbody tr th:only-of-type {\n",
       "        vertical-align: middle;\n",
       "    }\n",
       "\n",
       "    .dataframe tbody tr th {\n",
       "        vertical-align: top;\n",
       "    }\n",
       "\n",
       "    .dataframe thead th {\n",
       "        text-align: right;\n",
       "    }\n",
       "</style>\n",
       "<table border=\"1\" class=\"dataframe\">\n",
       "  <thead>\n",
       "    <tr style=\"text-align: right;\">\n",
       "      <th></th>\n",
       "      <th>source</th>\n",
       "      <th>financial_institution</th>\n",
       "      <th>origination_date</th>\n",
       "      <th>first_payment_date</th>\n",
       "      <th>loan_purpose</th>\n",
       "    </tr>\n",
       "  </thead>\n",
       "  <tbody>\n",
       "    <tr>\n",
       "      <td>count</td>\n",
       "      <td>92846</td>\n",
       "      <td>92846</td>\n",
       "      <td>92846</td>\n",
       "      <td>92846</td>\n",
       "      <td>92846</td>\n",
       "    </tr>\n",
       "    <tr>\n",
       "      <td>unique</td>\n",
       "      <td>3</td>\n",
       "      <td>19</td>\n",
       "      <td>3</td>\n",
       "      <td>4</td>\n",
       "      <td>3</td>\n",
       "    </tr>\n",
       "    <tr>\n",
       "      <td>top</td>\n",
       "      <td>X</td>\n",
       "      <td>OTHER</td>\n",
       "      <td>2012-02-01</td>\n",
       "      <td>04/2012</td>\n",
       "      <td>A23</td>\n",
       "    </tr>\n",
       "    <tr>\n",
       "      <td>freq</td>\n",
       "      <td>51067</td>\n",
       "      <td>39766</td>\n",
       "      <td>41951</td>\n",
       "      <td>42282</td>\n",
       "      <td>46820</td>\n",
       "    </tr>\n",
       "  </tbody>\n",
       "</table>\n",
       "</div>"
      ],
      "text/plain": [
       "       source financial_institution origination_date first_payment_date  \\\n",
       "count   92846                 92846            92846              92846   \n",
       "unique      3                    19                3                  4   \n",
       "top         X                 OTHER       2012-02-01            04/2012   \n",
       "freq    51067                 39766            41951              42282   \n",
       "\n",
       "       loan_purpose  \n",
       "count         92846  \n",
       "unique            3  \n",
       "top             A23  \n",
       "freq          46820  "
      ]
     },
     "execution_count": 15,
     "metadata": {},
     "output_type": "execute_result"
    }
   ],
   "source": [
    "train.describe(include = np.object)"
   ]
  },
  {
   "cell_type": "markdown",
   "metadata": {},
   "source": [
    "### Observations:\n",
    "- Loan_ID does not contribute to the outcome\n",
    "- interest rate seems to be fairly distributed(check)\n",
    "- unpaid_principal seems to be right skewed (check)\n",
    "- loan term - right skewed\n",
    "- loan_to_value ratio has a stark difference - there seem to be outliers on the lower side(check)\n",
    "- num of borrowers:2 > 1\n",
    "- DTI Ratio seems to be normally distributed\n",
    "- borrower_credit_score has outliers on the lower side\n",
    "- co-borrowers credit score is lesser than the borrowers\n",
    "- Data is highly imbalanced"
   ]
  },
  {
   "cell_type": "code",
   "execution_count": 16,
   "metadata": {},
   "outputs": [],
   "source": [
    "#Loan ID is unique for every row and the prediction does not depend on it at all\n",
    "\n",
    "train.drop('loan_id', axis = 1, inplace = True)\n",
    "test.drop('loan_id', axis = 1, inplace = True)"
   ]
  },
  {
   "cell_type": "markdown",
   "metadata": {},
   "source": [
    "<a id = '3'></a>"
   ]
  },
  {
   "cell_type": "markdown",
   "metadata": {},
   "source": [
    "# UNIVARIATE ANALYSIS"
   ]
  },
  {
   "cell_type": "markdown",
   "metadata": {},
   "source": [
    "### Categorical Columns"
   ]
  },
  {
   "cell_type": "code",
   "execution_count": 17,
   "metadata": {},
   "outputs": [
    {
     "data": {
      "image/png": "[encoded data removed]",
      "text/plain": [
       "<Figure size 432x288 with 1 Axes>"
      ]
     },
     "metadata": {
      "needs_background": "light"
     },
     "output_type": "display_data"
    },
    {
     "data": {
      "image/png": "[encoded data removed]",
      "text/plain": [
       "<Figure size 432x288 with 1 Axes>"
      ]
     },
     "metadata": {
      "needs_background": "light"
     },
     "output_type": "display_data"
    },
    {
     "data": {
      "image/png": "[encoded data removed]",
      "text/plain": [
       "<Figure size 432x288 with 1 Axes>"
      ]
     },
     "metadata": {
      "needs_background": "light"
     },
     "output_type": "display_data"
    },
    {
     "data": {
      "image/png": "[encoded data removed]",
      "text/plain": [
       "<Figure size 432x288 with 1 Axes>"
      ]
     },
     "metadata": {
      "needs_background": "light"
     },
     "output_type": "display_data"
    },
    {
     "data": {
      "image/png": "[encoded data removed]",
      "text/plain": [
       "<Figure size 432x288 with 1 Axes>"
      ]
     },
     "metadata": {
      "needs_background": "light"
     },
     "output_type": "display_data"
    }
   ],
   "source": [
    "for cname in cat_col_train:\n",
    "    valueCounts = train[cname].value_counts(normalize = True)\n",
    "    sns.barplot(valueCounts.index, valueCounts).set_title(cname)\n",
    "    plt.show()"
   ]
  },
  {
   "cell_type": "code",
   "execution_count": 18,
   "metadata": {},
   "outputs": [
    {
     "data": {
      "image/png": "[encoded data removed]",
      "text/plain": [
       "<Figure size 432x288 with 1 Axes>"
      ]
     },
     "metadata": {
      "needs_background": "light"
     },
     "output_type": "display_data"
    },
    {
     "data": {
      "image/png": "[encoded data removed]",
      "text/plain": [
       "<Figure size 432x288 with 1 Axes>"
      ]
     },
     "metadata": {
      "needs_background": "light"
     },
     "output_type": "display_data"
    },
    {
     "data": {
      "image/png": "[encoded data removed]",
      "text/plain": [
       "<Figure size 432x288 with 1 Axes>"
      ]
     },
     "metadata": {
      "needs_background": "light"
     },
     "output_type": "display_data"
    },
    {
     "data": {
      "image/png": "[encoded data removed]",
      "text/plain": [
       "<Figure size 432x288 with 1 Axes>"
      ]
     },
     "metadata": {
      "needs_background": "light"
     },
     "output_type": "display_data"
    },
    {
     "data": {
      "image/png": "[encoded data removed]",
      "text/plain": [
       "<Figure size 432x288 with 1 Axes>"
      ]
     },
     "metadata": {
      "needs_background": "light"
     },
     "output_type": "display_data"
    }
   ],
   "source": [
    "#Test dataset\n",
    "\n",
    "for cname in cat_col_train:\n",
    "    valueCounts = test[cname].value_counts(normalize = True)\n",
    "    sns.barplot(valueCounts.index, valueCounts).set_title(cname)\n",
    "    plt.show()"
   ]
  },
  {
   "cell_type": "markdown",
   "metadata": {},
   "source": [
    "### Observations:\n",
    "- 50% of Source : X\n",
    "- most of the loans were approved in the month of January\n",
    "- Only a few loans were paid in the second month\n",
    "- Maximum loans were paid in the month of april\n",
    "- A23 was the biggest reason for taking loans"
   ]
  },
  {
   "cell_type": "markdown",
   "metadata": {},
   "source": [
    "### Numerical features"
   ]
  },
  {
   "cell_type": "code",
   "execution_count": 19,
   "metadata": {},
   "outputs": [
    {
     "data": {
      "image/png": "[encoded data removed]",
      "text/plain": [
       "<Figure size 1152x432 with 10 Axes>"
      ]
     },
     "metadata": {},
     "output_type": "display_data"
    }
   ],
   "source": [
    "fig, axs = plt.subplots(2,5, figsize=(16, 6), facecolor='w', edgecolor='k')\n",
    "fig.subplots_adjust(hspace = .5, wspace=.001)\n",
    "axs = axs.ravel()\n",
    "\n",
    "for i,j in zip([i for i in num_col_train.columns.to_list()[1:] if len(i) >3],range(10)):\n",
    "    axs[j].hist(num_col_train[i])\n",
    "    axs[j].set_title(i+': '+str(np.round(num_col_train[i].skew(),2)))"
   ]
  },
  {
   "cell_type": "markdown",
   "metadata": {},
   "source": [
    "**If skewness is less than −1 or greater than +1, the distribution is highly skewed. If skewness is between −1 and −½ or between +½ and +1, the distribution is moderately skewed. If skewness is between −½ and +½, the distribution is approximately symmetric**"
   ]
  },
  {
   "cell_type": "code",
   "execution_count": 20,
   "metadata": {},
   "outputs": [
    {
     "data": {
      "image/png": "[encoded data removed]",
      "text/plain": [
       "<Figure size 1008x1440 with 10 Axes>"
      ]
     },
     "metadata": {
      "needs_background": "light"
     },
     "output_type": "display_data"
    }
   ],
   "source": [
    "\n",
    "fig, ((ax1, ax2), (ax3, ax4), (ax5, ax6), (ax7, ax8), (ax9,ax10)) = plt.subplots(nrows=5, ncols=2, figsize=(14,20))\n",
    "AX = [ax1, ax2, ax3, ax4, ax5, ax6, ax7, ax8, ax9, ax10]\n",
    "\n",
    "for i,j in zip([i for i in num_col_train.columns.to_list()[1:] if len(i) >3],AX):\n",
    "    sns.boxplot(x = 'm13', y = i, data =num_col_train,ax=j)"
   ]
  },
  {
   "cell_type": "markdown",
   "metadata": {},
   "source": [
    "- If 'borrower_credit_score is low, delinquency chances are high.\n",
    "- If 'debt_to_income_ratio' is high, delinquency chances are high.\n",
    "- If 'interest_rate' is high, delinquency chances are high."
   ]
  },
  {
   "cell_type": "code",
   "execution_count": 21,
   "metadata": {},
   "outputs": [
    {
     "data": {
      "image/png": "[encoded data removed]",
      "text/plain": [
       "<Figure size 432x288 with 1 Axes>"
      ]
     },
     "metadata": {
      "needs_background": "light"
     },
     "output_type": "display_data"
    }
   ],
   "source": [
    "#Boxplot for interest rate\n",
    "sns.boxplot(train['interest_rate'])\n",
    "plt.show()"
   ]
  },
  {
   "cell_type": "markdown",
   "metadata": {},
   "source": [
    "**The datapoints outside interest 6 in the train dataset are clearly outliers**\n",
    "- There are datapoints below 3 in the test dataset. Only one point with 2.25 as interest rate is an outlier on the lower side"
   ]
  },
  {
   "cell_type": "code",
   "execution_count": 22,
   "metadata": {},
   "outputs": [
    {
     "data": {
      "image/png": "[encoded data removed]",
      "text/plain": [
       "<Figure size 432x288 with 2 Axes>"
      ]
     },
     "metadata": {
      "needs_background": "light"
     },
     "output_type": "display_data"
    }
   ],
   "source": [
    "#Boxplot\n",
    "fig, (ax1, ax2) = plt.subplots(nrows = 1, ncols = 2)\n",
    "ax1.boxplot(train['unpaid_principal_bal'])\n",
    "ax2.boxplot(test['unpaid_principal_bal']);"
   ]
  },
  {
   "cell_type": "markdown",
   "metadata": {},
   "source": [
    "**As compared to test dataset the train datset has no outliers**\n",
    "- Unpaid Principal Balance has to be fed as a continuous variable so that it can predict on unseen data in the test dataset"
   ]
  },
  {
   "cell_type": "code",
   "execution_count": 23,
   "metadata": {},
   "outputs": [
    {
     "data": {
      "image/png": "[encoded data removed]",
      "text/plain": [
       "<Figure size 432x288 with 1 Axes>"
      ]
     },
     "metadata": {
      "needs_background": "light"
     },
     "output_type": "display_data"
    }
   ],
   "source": [
    "#Boxplot for train dataset\n",
    "\n",
    "sns.boxplot(train['loan_to_value']);"
   ]
  },
  {
   "cell_type": "code",
   "execution_count": 24,
   "metadata": {},
   "outputs": [
    {
     "data": {
      "text/plain": [
       "<matplotlib.axes._subplots.AxesSubplot at 0x1c2105bae48>"
      ]
     },
     "execution_count": 24,
     "metadata": {},
     "output_type": "execute_result"
    },
    {
     "data": {
      "image/png": "[encoded data removed]",
      "text/plain": [
       "<Figure size 432x288 with 1 Axes>"
      ]
     },
     "metadata": {
      "needs_background": "light"
     },
     "output_type": "display_data"
    }
   ],
   "source": [
    "sns.boxplot(train['debt_to_income_ratio'])"
   ]
  },
  {
   "cell_type": "markdown",
   "metadata": {},
   "source": [
    "**There is an outlier in the train dataset. Try feature engineering this column**"
   ]
  },
  {
   "cell_type": "code",
   "execution_count": 25,
   "metadata": {},
   "outputs": [
    {
     "data": {
      "image/png": "[encoded data removed]",
      "text/plain": [
       "<Figure size 432x288 with 1 Axes>"
      ]
     },
     "metadata": {
      "needs_background": "light"
     },
     "output_type": "display_data"
    }
   ],
   "source": [
    "sns.boxplot(train['borrower_credit_score']);"
   ]
  },
  {
   "cell_type": "markdown",
   "metadata": {},
   "source": [
    "**Extreme Outlier in the datasets on the lower side. There are rows in the test data that do not exist in the train data. It is a continuous Variable. Also, it'll be averaged with Co-borrower credit score so doesn't make much difference**"
   ]
  },
  {
   "cell_type": "code",
   "execution_count": 26,
   "metadata": {},
   "outputs": [
    {
     "data": {
      "image/png": "[encoded data removed]",
      "text/plain": [
       "<Figure size 432x288 with 1 Axes>"
      ]
     },
     "metadata": {
      "needs_background": "light"
     },
     "output_type": "display_data"
    }
   ],
   "source": [
    "train['insurance_type'].value_counts(normalize = True).plot(kind = 'bar')\n",
    "plt.title('Insurance type')\n",
    "plt.xlabel('Insurance type')\n",
    "plt.ylabel('Percentage of Count');"
   ]
  },
  {
   "cell_type": "markdown",
   "metadata": {},
   "source": [
    "**Drop this column**"
   ]
  },
  {
   "cell_type": "markdown",
   "metadata": {},
   "source": [
    "### Insurance percent : Loan Amount percent covered by insurance"
   ]
  },
  {
   "cell_type": "code",
   "execution_count": 27,
   "metadata": {},
   "outputs": [
    {
     "data": {
      "image/png": "[encoded data removed]",
      "text/plain": [
       "<Figure size 432x288 with 1 Axes>"
      ]
     },
     "metadata": {
      "needs_background": "light"
     },
     "output_type": "display_data"
    }
   ],
   "source": [
    "plt.hist(train['insurance_percent'], bins = 5);"
   ]
  },
  {
   "cell_type": "code",
   "execution_count": 28,
   "metadata": {},
   "outputs": [
    {
     "data": {
      "text/html": [
       "<div>\n",
       "<style scoped>\n",
       "    .dataframe tbody tr th:only-of-type {\n",
       "        vertical-align: middle;\n",
       "    }\n",
       "\n",
       "    .dataframe tbody tr th {\n",
       "        vertical-align: top;\n",
       "    }\n",
       "\n",
       "    .dataframe thead th {\n",
       "        text-align: right;\n",
       "    }\n",
       "</style>\n",
       "<table border=\"1\" class=\"dataframe\">\n",
       "  <thead>\n",
       "    <tr style=\"text-align: right;\">\n",
       "      <th></th>\n",
       "      <th>#Unique Values</th>\n",
       "    </tr>\n",
       "  </thead>\n",
       "  <tbody>\n",
       "    <tr>\n",
       "      <td>m1</td>\n",
       "      <td>4</td>\n",
       "    </tr>\n",
       "    <tr>\n",
       "      <td>m2</td>\n",
       "      <td>4</td>\n",
       "    </tr>\n",
       "    <tr>\n",
       "      <td>m3</td>\n",
       "      <td>5</td>\n",
       "    </tr>\n",
       "    <tr>\n",
       "      <td>m4</td>\n",
       "      <td>5</td>\n",
       "    </tr>\n",
       "    <tr>\n",
       "      <td>m5</td>\n",
       "      <td>7</td>\n",
       "    </tr>\n",
       "    <tr>\n",
       "      <td>m6</td>\n",
       "      <td>7</td>\n",
       "    </tr>\n",
       "    <tr>\n",
       "      <td>m7</td>\n",
       "      <td>8</td>\n",
       "    </tr>\n",
       "    <tr>\n",
       "      <td>m8</td>\n",
       "      <td>9</td>\n",
       "    </tr>\n",
       "    <tr>\n",
       "      <td>m9</td>\n",
       "      <td>10</td>\n",
       "    </tr>\n",
       "    <tr>\n",
       "      <td>m10</td>\n",
       "      <td>11</td>\n",
       "    </tr>\n",
       "    <tr>\n",
       "      <td>m11</td>\n",
       "      <td>12</td>\n",
       "    </tr>\n",
       "    <tr>\n",
       "      <td>m12</td>\n",
       "      <td>12</td>\n",
       "    </tr>\n",
       "  </tbody>\n",
       "</table>\n",
       "</div>"
      ],
      "text/plain": [
       "     #Unique Values\n",
       "m1                4\n",
       "m2                4\n",
       "m3                5\n",
       "m4                5\n",
       "m5                7\n",
       "m6                7\n",
       "m7                8\n",
       "m8                9\n",
       "m9               10\n",
       "m10              11\n",
       "m11              12\n",
       "m12              12"
      ]
     },
     "execution_count": 28,
     "metadata": {},
     "output_type": "execute_result"
    }
   ],
   "source": [
    "months = train[['m1', 'm2', 'm3', 'm4', 'm5', 'm6', 'm7', 'm8', 'm9', 'm10', 'm11', 'm12']]\n",
    "def month_delinq(df):\n",
    "    b = pd.DataFrame()\n",
    "    b['#Unique Values'] = df.nunique()\n",
    "    return b\n",
    "month_delinq(months)"
   ]
  },
  {
   "cell_type": "markdown",
   "metadata": {},
   "source": [
    "## Target Variable"
   ]
  },
  {
   "cell_type": "code",
   "execution_count": 29,
   "metadata": {},
   "outputs": [
    {
     "data": {
      "image/png": "[encoded data removed]",
      "text/plain": [
       "<Figure size 720x504 with 2 Axes>"
      ]
     },
     "metadata": {
      "needs_background": "light"
     },
     "output_type": "display_data"
    }
   ],
   "source": [
    "##Target Variable\n",
    "\n",
    "plt.subplot(1,2,1)\n",
    "sns.countplot(train['m13'],palette = 'cool')\n",
    "plt.title(\"Target variable count\")\n",
    "\n",
    "\n",
    "\n",
    "plt.subplot(1,2,2)\n",
    "count = train['m13'].value_counts()\n",
    "count.plot.pie(    autopct = '%1.1f%%',\n",
    "               colors=['pink', 'green'], figsize= (10,7), explode= [0,0.1], \n",
    "               title = \"pie chart of percentage of target class\")\n",
    "plt.show()"
   ]
  },
  {
   "cell_type": "code",
   "execution_count": null,
   "metadata": {},
   "outputs": [],
   "source": []
  },
  {
   "cell_type": "code",
   "execution_count": null,
   "metadata": {},
   "outputs": [],
   "source": []
  },
  {
   "cell_type": "markdown",
   "metadata": {},
   "source": [
    "<a id = '4'></a>"
   ]
  },
  {
   "cell_type": "markdown",
   "metadata": {},
   "source": [
    "# BIVARIATE ANALYSIS"
   ]
  },
  {
   "cell_type": "code",
   "execution_count": 30,
   "metadata": {},
   "outputs": [
    {
     "data": {
      "image/png": "[encoded data removed]",
      "text/plain": [
       "<Figure size 864x648 with 2 Axes>"
      ]
     },
     "metadata": {
      "needs_background": "light"
     },
     "output_type": "display_data"
    }
   ],
   "source": [
    "# Correlation matrix\n",
    "f, ax = plt.subplots(figsize=(12, 9))\n",
    "sns.heatmap(num_col_train.corr());"
   ]
  },
  {
   "cell_type": "markdown",
   "metadata": {},
   "source": [
    "- High Multicollinearity between m1 to m12\n",
    "- number of borrowers directly correlated to co_borrower credit score (average out the credit scores/ drop the column)\n",
    "- High correlation between loan term and interest rate"
   ]
  },
  {
   "cell_type": "markdown",
   "metadata": {},
   "source": [
    "## Categorical columns"
   ]
  },
  {
   "cell_type": "code",
   "execution_count": 31,
   "metadata": {},
   "outputs": [
    {
     "name": "stdout",
     "output_type": "stream",
     "text": [
      "m13         0    1\n",
      "source            \n",
      "X       50826  241\n",
      "Y       29821  197\n",
      "Z       11694   67\n",
      "m13                              0    1\n",
      "financial_institution                  \n",
      "Anderson-Taylor                374    3\n",
      "Browning-Hart                25402  134\n",
      "Chapman-Mcmahon                304    0\n",
      "Cole, Brooks and Vincent      1282    8\n",
      "Edwards-Hoffman               3866   37\n",
      "Martinez, Duffy and Bird      3727   19\n",
      "Miller, Mcclure and Allen     2535   18\n",
      "Nicholson Group               1723   10\n",
      "OTHER                        39554  212\n",
      "Richards-Walters              1165    4\n",
      "Richardson Ltd                 383    1\n",
      "Romero, Woods and Johnson      595    1\n",
      "Sanchez, Hays and Wilkerson    678    1\n",
      "Sanchez-Robinson               955    1\n",
      "Suarez Inc                    1419    3\n",
      "Swanson, Newton and Miller    5409   35\n",
      "Taylor, Hunt and Rodriguez     995    3\n",
      "Thornton-Davis                 507    3\n",
      "Turner, Baldwin and Rhodes    1468   12\n",
      "m13                   0    1\n",
      "origination_date            \n",
      "2012-01-01        38988  247\n",
      "2012-02-01        41733  218\n",
      "2012-03-01        11620   40\n",
      "m13                     0    1\n",
      "first_payment_date            \n",
      "02/2012               422    4\n",
      "03/2012             37896  242\n",
      "04/2012             42061  221\n",
      "05/2012             11962   38\n",
      "m13               0    1\n",
      "loan_purpose            \n",
      "A23           46647  173\n",
      "B12           23290  173\n",
      "C86           22404  159\n"
     ]
    }
   ],
   "source": [
    "for i in cat_col_train.columns.to_list():\n",
    "    print(pd.crosstab(train[i],train['m13']))"
   ]
  },
  {
   "cell_type": "markdown",
   "metadata": {},
   "source": [
    "#### Delinquency when :\n",
    "- Source X > Y > Z\n",
    "- financial institutions : OTHER > Browning heart\n",
    "- origination date : 1/1 > 2/1\n",
    "- first payment date : 4/12\n",
    "- loan purpose : A23 / B12"
   ]
  },
  {
   "cell_type": "markdown",
   "metadata": {},
   "source": [
    "### Categorical columns VS Target Variable(m13)\n",
    " 1. Source\n",
    " >Does the channel of loan determine the ease of repayment? \n",
    " \n",
    " 2. Financial Institution\n",
    " >Which Financial Institution has better customers who repay on time?\n",
    " \n",
    " 3. Loan Purpose\n",
    " >The loan purpose can be related to delinquency status. First check the correlation of Loan Purpose with Unpaid Principal Balance (Which Loan Purpose needs more money?). The higher the amount of payment, the higher the probability of delinquency. Therefore, the loan purpose that demands more money will have higher delinquency rate.\n",
    " \n",
    "\n",
    "### Numerical columns VS Target Variable(m13)\n",
    " 1. Interest Rate\n",
    " >Higher the interest rate, more the difficulty in paying back the loan. However, check the relation between interest rate and unpaid balance principal\n",
    " \n",
    " 2. Unpaid Principal Balance\n",
    " \n",
    " 3. Loan Term\n",
    " \n",
    " 4. LTV Ratio\n",
    " \n",
    " 5. Num. of borrowers\n",
    " \n",
    " 6. DTI Ratio\n",
    " \n",
    " 7. Avg. Credit Score\n",
    " \n",
    " 8. Insurance Precent\n",
    " \n",
    " 9. Insurance Type"
   ]
  },
  {
   "cell_type": "code",
   "execution_count": null,
   "metadata": {},
   "outputs": [],
   "source": []
  },
  {
   "cell_type": "markdown",
   "metadata": {},
   "source": [
    "<a id = '5'></a>"
   ]
  },
  {
   "cell_type": "markdown",
   "metadata": {},
   "source": [
    "# DATA CLEANING AND PROCESSING"
   ]
  },
  {
   "cell_type": "code",
   "execution_count": 32,
   "metadata": {},
   "outputs": [],
   "source": [
    "#Drop outliers\n",
    "\n",
    "drop_rows = train[(train['interest_rate'] > 6) | (train['debt_to_income_ratio'] > 60) | (train['insurance_percent'] >= 39)].index\n",
    "train.drop(drop_rows, inplace = True)"
   ]
  },
  {
   "cell_type": "markdown",
   "metadata": {},
   "source": [
    "### Label encoding financial institutions"
   ]
  },
  {
   "cell_type": "code",
   "execution_count": 33,
   "metadata": {},
   "outputs": [],
   "source": [
    "#Label Encoding financial institutions\n",
    "\n",
    "from sklearn.preprocessing import LabelEncoder\n",
    "lm = LabelEncoder()\n",
    "a  = ['financial_institution']\n",
    "for i in np.arange(len(a)):\n",
    "    train[a[i]] = lm.fit_transform(train[a[i]])\n",
    "    \n",
    "for i in np.arange(len(a)):\n",
    "    test[a[i]] = lm.fit_transform(test[a[i]])"
   ]
  },
  {
   "cell_type": "markdown",
   "metadata": {},
   "source": [
    "## One Hot Encoding source and loan_purpose"
   ]
  },
  {
   "cell_type": "code",
   "execution_count": 34,
   "metadata": {},
   "outputs": [],
   "source": [
    "#Source encoding\n",
    "source_dummies = pd.get_dummies(train['source'])\n",
    "train = pd.concat([train,source_dummies], axis = 'columns')\n",
    "#dropping Holding_Policy_Type column and a dummy variable to avoid the dummy variable trap\n",
    "train.drop(['source','Z'], axis = 'columns', inplace = True)"
   ]
  },
  {
   "cell_type": "code",
   "execution_count": 35,
   "metadata": {},
   "outputs": [],
   "source": [
    "#Test dataset\n",
    "source_test_dummies = pd.get_dummies(test['source'])\n",
    "test = pd.concat([test,source_test_dummies], axis = 'columns')\n",
    "#dropping source column and a dummy variable to avoid the dummy variable trap\n",
    "test.drop(['source','Z'], axis = 'columns', inplace = True)"
   ]
  },
  {
   "cell_type": "code",
   "execution_count": 36,
   "metadata": {},
   "outputs": [],
   "source": [
    "#loan_purpose\n",
    "purpose_dummies = pd.get_dummies(train['loan_purpose'])\n",
    "train = pd.concat([train,purpose_dummies], axis = 'columns')\n",
    "#dropping loan_purpose column and a dummy variable to avoid the dummy variable trap\n",
    "train.drop(['loan_purpose','C86'], axis = 'columns', inplace = True)"
   ]
  },
  {
   "cell_type": "code",
   "execution_count": 37,
   "metadata": {},
   "outputs": [],
   "source": [
    "#loan_purpose - test\n",
    "purpose_test_dummies = pd.get_dummies(test['loan_purpose'])\n",
    "test = pd.concat([test,purpose_test_dummies], axis = 'columns')\n",
    "#dropping loan_purpose column and a dummy variable to avoid the dummy variable trap\n",
    "test.drop(['loan_purpose','C86'], axis = 'columns', inplace = True)"
   ]
  },
  {
   "cell_type": "code",
   "execution_count": 38,
   "metadata": {},
   "outputs": [
    {
     "data": {
      "text/plain": [
       "Index(['financial_institution', 'interest_rate', 'unpaid_principal_bal',\n",
       "       'loan_term', 'origination_date', 'first_payment_date', 'loan_to_value',\n",
       "       'number_of_borrowers', 'debt_to_income_ratio', 'borrower_credit_score',\n",
       "       'insurance_percent', 'co-borrower_credit_score', 'insurance_type', 'm1',\n",
       "       'm2', 'm3', 'm4', 'm5', 'm6', 'm7', 'm8', 'm9', 'm10', 'm11', 'm12',\n",
       "       'm13', 'X', 'Y', 'A23', 'B12'],\n",
       "      dtype='object')"
      ]
     },
     "execution_count": 38,
     "metadata": {},
     "output_type": "execute_result"
    }
   ],
   "source": [
    "train.columns"
   ]
  },
  {
   "cell_type": "code",
   "execution_count": 39,
   "metadata": {},
   "outputs": [
    {
     "name": "stdout",
     "output_type": "stream",
     "text": [
      "Number of numerical columns: 28\n",
      "Number of categorical columns: 2\n"
     ]
    }
   ],
   "source": [
    "num_col_train = train.select_dtypes(include=[np.number])\n",
    "cat_col_train = train.select_dtypes(exclude=[np.number])\n",
    "print('Number of numerical columns: {}'.format(len(num_col_train.columns)))\n",
    "print('Number of categorical columns: {}'.format(len(cat_col_train.columns)))"
   ]
  },
  {
   "cell_type": "code",
   "execution_count": 40,
   "metadata": {},
   "outputs": [],
   "source": [
    "#Dropping redundant columns\n",
    "\n",
    "train.drop(['first_payment_date', 'origination_date', 'insurance_percent', 'number_of_borrowers'], axis = 1, inplace = True)\n",
    "test.drop(['first_payment_date', 'origination_date', 'insurance_percent', 'number_of_borrowers'], axis = 1, inplace = True)"
   ]
  },
  {
   "cell_type": "code",
   "execution_count": 41,
   "metadata": {},
   "outputs": [],
   "source": [
    "#Insurance type column is highly imbalanced and doesn't contribute much to model building\n",
    "train.drop('insurance_type', axis = 1, inplace = True)\n",
    "test.drop('insurance_type', axis = 1, inplace = True)"
   ]
  },
  {
   "cell_type": "markdown",
   "metadata": {},
   "source": [
    "### Averaging the credit scores in case of 2 borrowers"
   ]
  },
  {
   "cell_type": "code",
   "execution_count": 42,
   "metadata": {},
   "outputs": [],
   "source": [
    "#Average credit Score\n",
    "train['avg_credit_score'] = (train['borrower_credit_score']+train['co-borrower_credit_score'])/2\n",
    "\n",
    "#Dropping individual columns\n",
    "train.drop('borrower_credit_score', axis= 1, inplace = True)\n",
    "train.drop('co-borrower_credit_score', axis = 1, inplace = True)"
   ]
  },
  {
   "cell_type": "code",
   "execution_count": 43,
   "metadata": {},
   "outputs": [],
   "source": [
    "#Test dataset\n",
    "\n",
    "#Average credit Score\n",
    "test['avg_credit_score'] = (test['borrower_credit_score']+test['co-borrower_credit_score'])/2\n",
    "\n",
    "#Dropping individual columns\n",
    "test.drop('borrower_credit_score', axis= 1, inplace = True)\n",
    "test.drop('co-borrower_credit_score', axis = 1, inplace = True)"
   ]
  },
  {
   "cell_type": "code",
   "execution_count": 44,
   "metadata": {},
   "outputs": [],
   "source": [
    "#Drop loan term\n",
    "\n",
    "train.drop('loan_term', axis = 1, inplace = True)\n",
    "test.drop('loan_term', axis = 1, inplace = True)"
   ]
  },
  {
   "cell_type": "code",
   "execution_count": 45,
   "metadata": {},
   "outputs": [
    {
     "data": {
      "text/html": [
       "<div>\n",
       "<style scoped>\n",
       "    .dataframe tbody tr th:only-of-type {\n",
       "        vertical-align: middle;\n",
       "    }\n",
       "\n",
       "    .dataframe tbody tr th {\n",
       "        vertical-align: top;\n",
       "    }\n",
       "\n",
       "    .dataframe thead th {\n",
       "        text-align: right;\n",
       "    }\n",
       "</style>\n",
       "<table border=\"1\" class=\"dataframe\">\n",
       "  <thead>\n",
       "    <tr style=\"text-align: right;\">\n",
       "      <th></th>\n",
       "      <th>financial_institution</th>\n",
       "      <th>interest_rate</th>\n",
       "      <th>unpaid_principal_bal</th>\n",
       "      <th>loan_to_value</th>\n",
       "      <th>debt_to_income_ratio</th>\n",
       "      <th>m1</th>\n",
       "      <th>m2</th>\n",
       "      <th>m3</th>\n",
       "      <th>m4</th>\n",
       "      <th>m5</th>\n",
       "      <th>...</th>\n",
       "      <th>m9</th>\n",
       "      <th>m10</th>\n",
       "      <th>m11</th>\n",
       "      <th>m12</th>\n",
       "      <th>m13</th>\n",
       "      <th>X</th>\n",
       "      <th>Y</th>\n",
       "      <th>A23</th>\n",
       "      <th>B12</th>\n",
       "      <th>avg_credit_score</th>\n",
       "    </tr>\n",
       "  </thead>\n",
       "  <tbody>\n",
       "    <tr>\n",
       "      <td>count</td>\n",
       "      <td>92837.000000</td>\n",
       "      <td>92837.000000</td>\n",
       "      <td>92837.000000</td>\n",
       "      <td>92837.000000</td>\n",
       "      <td>92837.000000</td>\n",
       "      <td>92837.000000</td>\n",
       "      <td>92837.000000</td>\n",
       "      <td>92837.000000</td>\n",
       "      <td>92837.000000</td>\n",
       "      <td>92837.000000</td>\n",
       "      <td>...</td>\n",
       "      <td>92837.000000</td>\n",
       "      <td>92837.000000</td>\n",
       "      <td>92837.000000</td>\n",
       "      <td>92837.000000</td>\n",
       "      <td>92837.000000</td>\n",
       "      <td>92837.000000</td>\n",
       "      <td>92837.00000</td>\n",
       "      <td>92837.000000</td>\n",
       "      <td>92837.000000</td>\n",
       "      <td>92837.000000</td>\n",
       "    </tr>\n",
       "    <tr>\n",
       "      <td>mean</td>\n",
       "      <td>6.508375</td>\n",
       "      <td>3.868864</td>\n",
       "      <td>208052.812995</td>\n",
       "      <td>67.423043</td>\n",
       "      <td>30.736980</td>\n",
       "      <td>0.003178</td>\n",
       "      <td>0.002057</td>\n",
       "      <td>0.001853</td>\n",
       "      <td>0.001993</td>\n",
       "      <td>0.003231</td>\n",
       "      <td>...</td>\n",
       "      <td>0.005246</td>\n",
       "      <td>0.006484</td>\n",
       "      <td>0.007098</td>\n",
       "      <td>0.007917</td>\n",
       "      <td>0.005440</td>\n",
       "      <td>0.549996</td>\n",
       "      <td>0.32333</td>\n",
       "      <td>0.504282</td>\n",
       "      <td>0.252723</td>\n",
       "      <td>614.601560</td>\n",
       "    </tr>\n",
       "    <tr>\n",
       "      <td>std</td>\n",
       "      <td>4.444594</td>\n",
       "      <td>0.460734</td>\n",
       "      <td>114625.350707</td>\n",
       "      <td>17.326579</td>\n",
       "      <td>9.729672</td>\n",
       "      <td>0.062450</td>\n",
       "      <td>0.049623</td>\n",
       "      <td>0.050599</td>\n",
       "      <td>0.053592</td>\n",
       "      <td>0.074193</td>\n",
       "      <td>...</td>\n",
       "      <td>0.123957</td>\n",
       "      <td>0.145749</td>\n",
       "      <td>0.158706</td>\n",
       "      <td>0.171584</td>\n",
       "      <td>0.073553</td>\n",
       "      <td>0.497497</td>\n",
       "      <td>0.46775</td>\n",
       "      <td>0.499984</td>\n",
       "      <td>0.434576</td>\n",
       "      <td>195.469616</td>\n",
       "    </tr>\n",
       "    <tr>\n",
       "      <td>min</td>\n",
       "      <td>0.000000</td>\n",
       "      <td>2.250000</td>\n",
       "      <td>14000.000000</td>\n",
       "      <td>6.000000</td>\n",
       "      <td>1.000000</td>\n",
       "      <td>0.000000</td>\n",
       "      <td>0.000000</td>\n",
       "      <td>0.000000</td>\n",
       "      <td>0.000000</td>\n",
       "      <td>0.000000</td>\n",
       "      <td>...</td>\n",
       "      <td>0.000000</td>\n",
       "      <td>0.000000</td>\n",
       "      <td>0.000000</td>\n",
       "      <td>0.000000</td>\n",
       "      <td>0.000000</td>\n",
       "      <td>0.000000</td>\n",
       "      <td>0.00000</td>\n",
       "      <td>0.000000</td>\n",
       "      <td>0.000000</td>\n",
       "      <td>0.000000</td>\n",
       "    </tr>\n",
       "    <tr>\n",
       "      <td>25%</td>\n",
       "      <td>1.000000</td>\n",
       "      <td>3.500000</td>\n",
       "      <td>120000.000000</td>\n",
       "      <td>57.000000</td>\n",
       "      <td>23.000000</td>\n",
       "      <td>0.000000</td>\n",
       "      <td>0.000000</td>\n",
       "      <td>0.000000</td>\n",
       "      <td>0.000000</td>\n",
       "      <td>0.000000</td>\n",
       "      <td>...</td>\n",
       "      <td>0.000000</td>\n",
       "      <td>0.000000</td>\n",
       "      <td>0.000000</td>\n",
       "      <td>0.000000</td>\n",
       "      <td>0.000000</td>\n",
       "      <td>0.000000</td>\n",
       "      <td>0.00000</td>\n",
       "      <td>0.000000</td>\n",
       "      <td>0.000000</td>\n",
       "      <td>393.000000</td>\n",
       "    </tr>\n",
       "    <tr>\n",
       "      <td>50%</td>\n",
       "      <td>8.000000</td>\n",
       "      <td>3.875000</td>\n",
       "      <td>182000.000000</td>\n",
       "      <td>72.000000</td>\n",
       "      <td>31.000000</td>\n",
       "      <td>0.000000</td>\n",
       "      <td>0.000000</td>\n",
       "      <td>0.000000</td>\n",
       "      <td>0.000000</td>\n",
       "      <td>0.000000</td>\n",
       "      <td>...</td>\n",
       "      <td>0.000000</td>\n",
       "      <td>0.000000</td>\n",
       "      <td>0.000000</td>\n",
       "      <td>0.000000</td>\n",
       "      <td>0.000000</td>\n",
       "      <td>1.000000</td>\n",
       "      <td>0.00000</td>\n",
       "      <td>1.000000</td>\n",
       "      <td>0.000000</td>\n",
       "      <td>743.000000</td>\n",
       "    </tr>\n",
       "    <tr>\n",
       "      <td>75%</td>\n",
       "      <td>8.000000</td>\n",
       "      <td>4.125000</td>\n",
       "      <td>278000.000000</td>\n",
       "      <td>80.000000</td>\n",
       "      <td>39.000000</td>\n",
       "      <td>0.000000</td>\n",
       "      <td>0.000000</td>\n",
       "      <td>0.000000</td>\n",
       "      <td>0.000000</td>\n",
       "      <td>0.000000</td>\n",
       "      <td>...</td>\n",
       "      <td>0.000000</td>\n",
       "      <td>0.000000</td>\n",
       "      <td>0.000000</td>\n",
       "      <td>0.000000</td>\n",
       "      <td>0.000000</td>\n",
       "      <td>1.000000</td>\n",
       "      <td>1.00000</td>\n",
       "      <td>1.000000</td>\n",
       "      <td>1.000000</td>\n",
       "      <td>789.000000</td>\n",
       "    </tr>\n",
       "    <tr>\n",
       "      <td>max</td>\n",
       "      <td>18.000000</td>\n",
       "      <td>6.000000</td>\n",
       "      <td>915000.000000</td>\n",
       "      <td>97.000000</td>\n",
       "      <td>58.000000</td>\n",
       "      <td>3.000000</td>\n",
       "      <td>3.000000</td>\n",
       "      <td>4.000000</td>\n",
       "      <td>5.000000</td>\n",
       "      <td>6.000000</td>\n",
       "      <td>...</td>\n",
       "      <td>10.000000</td>\n",
       "      <td>11.000000</td>\n",
       "      <td>11.000000</td>\n",
       "      <td>11.000000</td>\n",
       "      <td>1.000000</td>\n",
       "      <td>1.000000</td>\n",
       "      <td>1.00000</td>\n",
       "      <td>1.000000</td>\n",
       "      <td>1.000000</td>\n",
       "      <td>830.500000</td>\n",
       "    </tr>\n",
       "  </tbody>\n",
       "</table>\n",
       "<p>8 rows × 23 columns</p>\n",
       "</div>"
      ],
      "text/plain": [
       "       financial_institution  interest_rate  unpaid_principal_bal  \\\n",
       "count           92837.000000   92837.000000          92837.000000   \n",
       "mean                6.508375       3.868864         208052.812995   \n",
       "std                 4.444594       0.460734         114625.350707   \n",
       "min                 0.000000       2.250000          14000.000000   \n",
       "25%                 1.000000       3.500000         120000.000000   \n",
       "50%                 8.000000       3.875000         182000.000000   \n",
       "75%                 8.000000       4.125000         278000.000000   \n",
       "max                18.000000       6.000000         915000.000000   \n",
       "\n",
       "       loan_to_value  debt_to_income_ratio            m1            m2  \\\n",
       "count   92837.000000          92837.000000  92837.000000  92837.000000   \n",
       "mean       67.423043             30.736980      0.003178      0.002057   \n",
       "std        17.326579              9.729672      0.062450      0.049623   \n",
       "min         6.000000              1.000000      0.000000      0.000000   \n",
       "25%        57.000000             23.000000      0.000000      0.000000   \n",
       "50%        72.000000             31.000000      0.000000      0.000000   \n",
       "75%        80.000000             39.000000      0.000000      0.000000   \n",
       "max        97.000000             58.000000      3.000000      3.000000   \n",
       "\n",
       "                 m3            m4            m5  ...            m9  \\\n",
       "count  92837.000000  92837.000000  92837.000000  ...  92837.000000   \n",
       "mean       0.001853      0.001993      0.003231  ...      0.005246   \n",
       "std        0.050599      0.053592      0.074193  ...      0.123957   \n",
       "min        0.000000      0.000000      0.000000  ...      0.000000   \n",
       "25%        0.000000      0.000000      0.000000  ...      0.000000   \n",
       "50%        0.000000      0.000000      0.000000  ...      0.000000   \n",
       "75%        0.000000      0.000000      0.000000  ...      0.000000   \n",
       "max        4.000000      5.000000      6.000000  ...     10.000000   \n",
       "\n",
       "                m10           m11           m12           m13             X  \\\n",
       "count  92837.000000  92837.000000  92837.000000  92837.000000  92837.000000   \n",
       "mean       0.006484      0.007098      0.007917      0.005440      0.549996   \n",
       "std        0.145749      0.158706      0.171584      0.073553      0.497497   \n",
       "min        0.000000      0.000000      0.000000      0.000000      0.000000   \n",
       "25%        0.000000      0.000000      0.000000      0.000000      0.000000   \n",
       "50%        0.000000      0.000000      0.000000      0.000000      1.000000   \n",
       "75%        0.000000      0.000000      0.000000      0.000000      1.000000   \n",
       "max       11.000000     11.000000     11.000000      1.000000      1.000000   \n",
       "\n",
       "                 Y           A23           B12  avg_credit_score  \n",
       "count  92837.00000  92837.000000  92837.000000      92837.000000  \n",
       "mean       0.32333      0.504282      0.252723        614.601560  \n",
       "std        0.46775      0.499984      0.434576        195.469616  \n",
       "min        0.00000      0.000000      0.000000          0.000000  \n",
       "25%        0.00000      0.000000      0.000000        393.000000  \n",
       "50%        0.00000      1.000000      0.000000        743.000000  \n",
       "75%        1.00000      1.000000      1.000000        789.000000  \n",
       "max        1.00000      1.000000      1.000000        830.500000  \n",
       "\n",
       "[8 rows x 23 columns]"
      ]
     },
     "execution_count": 45,
     "metadata": {},
     "output_type": "execute_result"
    }
   ],
   "source": [
    "train.describe()"
   ]
  },
  {
   "cell_type": "markdown",
   "metadata": {},
   "source": [
    "### StandardScaler for unpaid_principal_bal and avg_credit_score"
   ]
  },
  {
   "cell_type": "code",
   "execution_count": 46,
   "metadata": {},
   "outputs": [
    {
     "data": {
      "text/html": [
       "<div>\n",
       "<style scoped>\n",
       "    .dataframe tbody tr th:only-of-type {\n",
       "        vertical-align: middle;\n",
       "    }\n",
       "\n",
       "    .dataframe tbody tr th {\n",
       "        vertical-align: top;\n",
       "    }\n",
       "\n",
       "    .dataframe thead th {\n",
       "        text-align: right;\n",
       "    }\n",
       "</style>\n",
       "<table border=\"1\" class=\"dataframe\">\n",
       "  <thead>\n",
       "    <tr style=\"text-align: right;\">\n",
       "      <th></th>\n",
       "      <th>financial_institution</th>\n",
       "      <th>interest_rate</th>\n",
       "      <th>unpaid_principal_bal</th>\n",
       "      <th>loan_to_value</th>\n",
       "      <th>debt_to_income_ratio</th>\n",
       "      <th>m1</th>\n",
       "      <th>m2</th>\n",
       "      <th>m3</th>\n",
       "      <th>m4</th>\n",
       "      <th>m5</th>\n",
       "      <th>...</th>\n",
       "      <th>m9</th>\n",
       "      <th>m10</th>\n",
       "      <th>m11</th>\n",
       "      <th>m12</th>\n",
       "      <th>m13</th>\n",
       "      <th>X</th>\n",
       "      <th>Y</th>\n",
       "      <th>A23</th>\n",
       "      <th>B12</th>\n",
       "      <th>avg_credit_score</th>\n",
       "    </tr>\n",
       "  </thead>\n",
       "  <tbody>\n",
       "    <tr>\n",
       "      <td>count</td>\n",
       "      <td>92837.000000</td>\n",
       "      <td>92837.000000</td>\n",
       "      <td>92837.000000</td>\n",
       "      <td>92837.000000</td>\n",
       "      <td>92837.000000</td>\n",
       "      <td>92837.000000</td>\n",
       "      <td>92837.000000</td>\n",
       "      <td>92837.000000</td>\n",
       "      <td>92837.000000</td>\n",
       "      <td>92837.000000</td>\n",
       "      <td>...</td>\n",
       "      <td>92837.000000</td>\n",
       "      <td>92837.000000</td>\n",
       "      <td>92837.000000</td>\n",
       "      <td>92837.000000</td>\n",
       "      <td>92837.000000</td>\n",
       "      <td>92837.000000</td>\n",
       "      <td>92837.00000</td>\n",
       "      <td>92837.000000</td>\n",
       "      <td>92837.000000</td>\n",
       "      <td>9.283700e+04</td>\n",
       "    </tr>\n",
       "    <tr>\n",
       "      <td>mean</td>\n",
       "      <td>6.508375</td>\n",
       "      <td>3.868864</td>\n",
       "      <td>208052.812995</td>\n",
       "      <td>67.423043</td>\n",
       "      <td>30.736980</td>\n",
       "      <td>0.003178</td>\n",
       "      <td>0.002057</td>\n",
       "      <td>0.001853</td>\n",
       "      <td>0.001993</td>\n",
       "      <td>0.003231</td>\n",
       "      <td>...</td>\n",
       "      <td>0.005246</td>\n",
       "      <td>0.006484</td>\n",
       "      <td>0.007098</td>\n",
       "      <td>0.007917</td>\n",
       "      <td>0.005440</td>\n",
       "      <td>0.549996</td>\n",
       "      <td>0.32333</td>\n",
       "      <td>0.504282</td>\n",
       "      <td>0.252723</td>\n",
       "      <td>2.627710e-16</td>\n",
       "    </tr>\n",
       "    <tr>\n",
       "      <td>std</td>\n",
       "      <td>4.444594</td>\n",
       "      <td>0.460734</td>\n",
       "      <td>114625.350707</td>\n",
       "      <td>17.326579</td>\n",
       "      <td>9.729672</td>\n",
       "      <td>0.062450</td>\n",
       "      <td>0.049623</td>\n",
       "      <td>0.050599</td>\n",
       "      <td>0.053592</td>\n",
       "      <td>0.074193</td>\n",
       "      <td>...</td>\n",
       "      <td>0.123957</td>\n",
       "      <td>0.145749</td>\n",
       "      <td>0.158706</td>\n",
       "      <td>0.171584</td>\n",
       "      <td>0.073553</td>\n",
       "      <td>0.497497</td>\n",
       "      <td>0.46775</td>\n",
       "      <td>0.499984</td>\n",
       "      <td>0.434576</td>\n",
       "      <td>1.000005e+00</td>\n",
       "    </tr>\n",
       "    <tr>\n",
       "      <td>min</td>\n",
       "      <td>0.000000</td>\n",
       "      <td>2.250000</td>\n",
       "      <td>14000.000000</td>\n",
       "      <td>6.000000</td>\n",
       "      <td>1.000000</td>\n",
       "      <td>0.000000</td>\n",
       "      <td>0.000000</td>\n",
       "      <td>0.000000</td>\n",
       "      <td>0.000000</td>\n",
       "      <td>0.000000</td>\n",
       "      <td>...</td>\n",
       "      <td>0.000000</td>\n",
       "      <td>0.000000</td>\n",
       "      <td>0.000000</td>\n",
       "      <td>0.000000</td>\n",
       "      <td>0.000000</td>\n",
       "      <td>0.000000</td>\n",
       "      <td>0.00000</td>\n",
       "      <td>0.000000</td>\n",
       "      <td>0.000000</td>\n",
       "      <td>-3.144248e+00</td>\n",
       "    </tr>\n",
       "    <tr>\n",
       "      <td>25%</td>\n",
       "      <td>1.000000</td>\n",
       "      <td>3.500000</td>\n",
       "      <td>120000.000000</td>\n",
       "      <td>57.000000</td>\n",
       "      <td>23.000000</td>\n",
       "      <td>0.000000</td>\n",
       "      <td>0.000000</td>\n",
       "      <td>0.000000</td>\n",
       "      <td>0.000000</td>\n",
       "      <td>0.000000</td>\n",
       "      <td>...</td>\n",
       "      <td>0.000000</td>\n",
       "      <td>0.000000</td>\n",
       "      <td>0.000000</td>\n",
       "      <td>0.000000</td>\n",
       "      <td>0.000000</td>\n",
       "      <td>0.000000</td>\n",
       "      <td>0.00000</td>\n",
       "      <td>0.000000</td>\n",
       "      <td>0.000000</td>\n",
       "      <td>-1.133694e+00</td>\n",
       "    </tr>\n",
       "    <tr>\n",
       "      <td>50%</td>\n",
       "      <td>8.000000</td>\n",
       "      <td>3.875000</td>\n",
       "      <td>182000.000000</td>\n",
       "      <td>72.000000</td>\n",
       "      <td>31.000000</td>\n",
       "      <td>0.000000</td>\n",
       "      <td>0.000000</td>\n",
       "      <td>0.000000</td>\n",
       "      <td>0.000000</td>\n",
       "      <td>0.000000</td>\n",
       "      <td>...</td>\n",
       "      <td>0.000000</td>\n",
       "      <td>0.000000</td>\n",
       "      <td>0.000000</td>\n",
       "      <td>0.000000</td>\n",
       "      <td>0.000000</td>\n",
       "      <td>1.000000</td>\n",
       "      <td>0.00000</td>\n",
       "      <td>1.000000</td>\n",
       "      <td>0.000000</td>\n",
       "      <td>6.568751e-01</td>\n",
       "    </tr>\n",
       "    <tr>\n",
       "      <td>75%</td>\n",
       "      <td>8.000000</td>\n",
       "      <td>4.125000</td>\n",
       "      <td>278000.000000</td>\n",
       "      <td>80.000000</td>\n",
       "      <td>39.000000</td>\n",
       "      <td>0.000000</td>\n",
       "      <td>0.000000</td>\n",
       "      <td>0.000000</td>\n",
       "      <td>0.000000</td>\n",
       "      <td>0.000000</td>\n",
       "      <td>...</td>\n",
       "      <td>0.000000</td>\n",
       "      <td>0.000000</td>\n",
       "      <td>0.000000</td>\n",
       "      <td>0.000000</td>\n",
       "      <td>0.000000</td>\n",
       "      <td>1.000000</td>\n",
       "      <td>1.00000</td>\n",
       "      <td>1.000000</td>\n",
       "      <td>1.000000</td>\n",
       "      <td>8.922071e-01</td>\n",
       "    </tr>\n",
       "    <tr>\n",
       "      <td>max</td>\n",
       "      <td>18.000000</td>\n",
       "      <td>6.000000</td>\n",
       "      <td>915000.000000</td>\n",
       "      <td>97.000000</td>\n",
       "      <td>58.000000</td>\n",
       "      <td>3.000000</td>\n",
       "      <td>3.000000</td>\n",
       "      <td>4.000000</td>\n",
       "      <td>5.000000</td>\n",
       "      <td>6.000000</td>\n",
       "      <td>...</td>\n",
       "      <td>10.000000</td>\n",
       "      <td>11.000000</td>\n",
       "      <td>11.000000</td>\n",
       "      <td>11.000000</td>\n",
       "      <td>1.000000</td>\n",
       "      <td>1.000000</td>\n",
       "      <td>1.00000</td>\n",
       "      <td>1.000000</td>\n",
       "      <td>1.000000</td>\n",
       "      <td>1.104517e+00</td>\n",
       "    </tr>\n",
       "  </tbody>\n",
       "</table>\n",
       "<p>8 rows × 23 columns</p>\n",
       "</div>"
      ],
      "text/plain": [
       "       financial_institution  interest_rate  unpaid_principal_bal  \\\n",
       "count           92837.000000   92837.000000          92837.000000   \n",
       "mean                6.508375       3.868864         208052.812995   \n",
       "std                 4.444594       0.460734         114625.350707   \n",
       "min                 0.000000       2.250000          14000.000000   \n",
       "25%                 1.000000       3.500000         120000.000000   \n",
       "50%                 8.000000       3.875000         182000.000000   \n",
       "75%                 8.000000       4.125000         278000.000000   \n",
       "max                18.000000       6.000000         915000.000000   \n",
       "\n",
       "       loan_to_value  debt_to_income_ratio            m1            m2  \\\n",
       "count   92837.000000          92837.000000  92837.000000  92837.000000   \n",
       "mean       67.423043             30.736980      0.003178      0.002057   \n",
       "std        17.326579              9.729672      0.062450      0.049623   \n",
       "min         6.000000              1.000000      0.000000      0.000000   \n",
       "25%        57.000000             23.000000      0.000000      0.000000   \n",
       "50%        72.000000             31.000000      0.000000      0.000000   \n",
       "75%        80.000000             39.000000      0.000000      0.000000   \n",
       "max        97.000000             58.000000      3.000000      3.000000   \n",
       "\n",
       "                 m3            m4            m5  ...            m9  \\\n",
       "count  92837.000000  92837.000000  92837.000000  ...  92837.000000   \n",
       "mean       0.001853      0.001993      0.003231  ...      0.005246   \n",
       "std        0.050599      0.053592      0.074193  ...      0.123957   \n",
       "min        0.000000      0.000000      0.000000  ...      0.000000   \n",
       "25%        0.000000      0.000000      0.000000  ...      0.000000   \n",
       "50%        0.000000      0.000000      0.000000  ...      0.000000   \n",
       "75%        0.000000      0.000000      0.000000  ...      0.000000   \n",
       "max        4.000000      5.000000      6.000000  ...     10.000000   \n",
       "\n",
       "                m10           m11           m12           m13             X  \\\n",
       "count  92837.000000  92837.000000  92837.000000  92837.000000  92837.000000   \n",
       "mean       0.006484      0.007098      0.007917      0.005440      0.549996   \n",
       "std        0.145749      0.158706      0.171584      0.073553      0.497497   \n",
       "min        0.000000      0.000000      0.000000      0.000000      0.000000   \n",
       "25%        0.000000      0.000000      0.000000      0.000000      0.000000   \n",
       "50%        0.000000      0.000000      0.000000      0.000000      1.000000   \n",
       "75%        0.000000      0.000000      0.000000      0.000000      1.000000   \n",
       "max       11.000000     11.000000     11.000000      1.000000      1.000000   \n",
       "\n",
       "                 Y           A23           B12  avg_credit_score  \n",
       "count  92837.00000  92837.000000  92837.000000      9.283700e+04  \n",
       "mean       0.32333      0.504282      0.252723      2.627710e-16  \n",
       "std        0.46775      0.499984      0.434576      1.000005e+00  \n",
       "min        0.00000      0.000000      0.000000     -3.144248e+00  \n",
       "25%        0.00000      0.000000      0.000000     -1.133694e+00  \n",
       "50%        0.00000      1.000000      0.000000      6.568751e-01  \n",
       "75%        1.00000      1.000000      1.000000      8.922071e-01  \n",
       "max        1.00000      1.000000      1.000000      1.104517e+00  \n",
       "\n",
       "[8 rows x 23 columns]"
      ]
     },
     "execution_count": 46,
     "metadata": {},
     "output_type": "execute_result"
    }
   ],
   "source": [
    "from sklearn.preprocessing import StandardScaler\n",
    "\n",
    "ss = StandardScaler()\n",
    "#Fit on training data column\n",
    "scale = ss.fit(train[['avg_credit_score']])\n",
    "#Transform\n",
    "train['avg_credit_score'] = scale.transform(train[['avg_credit_score']])\n",
    "train.describe()"
   ]
  },
  {
   "cell_type": "code",
   "execution_count": 47,
   "metadata": {},
   "outputs": [
    {
     "data": {
      "text/html": [
       "<div>\n",
       "<style scoped>\n",
       "    .dataframe tbody tr th:only-of-type {\n",
       "        vertical-align: middle;\n",
       "    }\n",
       "\n",
       "    .dataframe tbody tr th {\n",
       "        vertical-align: top;\n",
       "    }\n",
       "\n",
       "    .dataframe thead th {\n",
       "        text-align: right;\n",
       "    }\n",
       "</style>\n",
       "<table border=\"1\" class=\"dataframe\">\n",
       "  <thead>\n",
       "    <tr style=\"text-align: right;\">\n",
       "      <th></th>\n",
       "      <th>financial_institution</th>\n",
       "      <th>interest_rate</th>\n",
       "      <th>unpaid_principal_bal</th>\n",
       "      <th>loan_to_value</th>\n",
       "      <th>debt_to_income_ratio</th>\n",
       "      <th>m1</th>\n",
       "      <th>m2</th>\n",
       "      <th>m3</th>\n",
       "      <th>m4</th>\n",
       "      <th>m5</th>\n",
       "      <th>...</th>\n",
       "      <th>m8</th>\n",
       "      <th>m9</th>\n",
       "      <th>m10</th>\n",
       "      <th>m11</th>\n",
       "      <th>m12</th>\n",
       "      <th>X</th>\n",
       "      <th>Y</th>\n",
       "      <th>A23</th>\n",
       "      <th>B12</th>\n",
       "      <th>avg_credit_score</th>\n",
       "    </tr>\n",
       "  </thead>\n",
       "  <tbody>\n",
       "    <tr>\n",
       "      <td>count</td>\n",
       "      <td>23212.000000</td>\n",
       "      <td>23212.000000</td>\n",
       "      <td>2.321200e+04</td>\n",
       "      <td>23212.000000</td>\n",
       "      <td>23212.000000</td>\n",
       "      <td>23212.000000</td>\n",
       "      <td>23212.000000</td>\n",
       "      <td>23212.000000</td>\n",
       "      <td>23212.000000</td>\n",
       "      <td>23212.000000</td>\n",
       "      <td>...</td>\n",
       "      <td>23212.000000</td>\n",
       "      <td>23212.000000</td>\n",
       "      <td>23212.000000</td>\n",
       "      <td>23212.000000</td>\n",
       "      <td>23212.000000</td>\n",
       "      <td>23212.000000</td>\n",
       "      <td>23212.000000</td>\n",
       "      <td>23212.000000</td>\n",
       "      <td>23212.000000</td>\n",
       "      <td>2.321200e+04</td>\n",
       "    </tr>\n",
       "    <tr>\n",
       "      <td>mean</td>\n",
       "      <td>6.552731</td>\n",
       "      <td>3.868762</td>\n",
       "      <td>2.089418e+05</td>\n",
       "      <td>67.461270</td>\n",
       "      <td>30.760296</td>\n",
       "      <td>0.003274</td>\n",
       "      <td>0.002068</td>\n",
       "      <td>0.002456</td>\n",
       "      <td>0.002930</td>\n",
       "      <td>0.004739</td>\n",
       "      <td>...</td>\n",
       "      <td>0.005816</td>\n",
       "      <td>0.005773</td>\n",
       "      <td>0.007151</td>\n",
       "      <td>0.007151</td>\n",
       "      <td>0.008659</td>\n",
       "      <td>0.551051</td>\n",
       "      <td>0.324660</td>\n",
       "      <td>0.501551</td>\n",
       "      <td>0.255040</td>\n",
       "      <td>1.303503e-16</td>\n",
       "    </tr>\n",
       "    <tr>\n",
       "      <td>std</td>\n",
       "      <td>4.476105</td>\n",
       "      <td>0.460605</td>\n",
       "      <td>1.149227e+05</td>\n",
       "      <td>17.151488</td>\n",
       "      <td>9.732222</td>\n",
       "      <td>0.066857</td>\n",
       "      <td>0.057933</td>\n",
       "      <td>0.071560</td>\n",
       "      <td>0.088502</td>\n",
       "      <td>0.110122</td>\n",
       "      <td>...</td>\n",
       "      <td>0.133588</td>\n",
       "      <td>0.143989</td>\n",
       "      <td>0.158731</td>\n",
       "      <td>0.178652</td>\n",
       "      <td>0.202230</td>\n",
       "      <td>0.497398</td>\n",
       "      <td>0.468258</td>\n",
       "      <td>0.500008</td>\n",
       "      <td>0.435893</td>\n",
       "      <td>1.000022e+00</td>\n",
       "    </tr>\n",
       "    <tr>\n",
       "      <td>min</td>\n",
       "      <td>0.000000</td>\n",
       "      <td>2.375000</td>\n",
       "      <td>1.100000e+04</td>\n",
       "      <td>6.000000</td>\n",
       "      <td>1.000000</td>\n",
       "      <td>0.000000</td>\n",
       "      <td>0.000000</td>\n",
       "      <td>0.000000</td>\n",
       "      <td>0.000000</td>\n",
       "      <td>0.000000</td>\n",
       "      <td>...</td>\n",
       "      <td>0.000000</td>\n",
       "      <td>0.000000</td>\n",
       "      <td>0.000000</td>\n",
       "      <td>0.000000</td>\n",
       "      <td>0.000000</td>\n",
       "      <td>0.000000</td>\n",
       "      <td>0.000000</td>\n",
       "      <td>0.000000</td>\n",
       "      <td>0.000000</td>\n",
       "      <td>-3.159653e+00</td>\n",
       "    </tr>\n",
       "    <tr>\n",
       "      <td>25%</td>\n",
       "      <td>1.000000</td>\n",
       "      <td>3.500000</td>\n",
       "      <td>1.200000e+05</td>\n",
       "      <td>57.000000</td>\n",
       "      <td>23.000000</td>\n",
       "      <td>0.000000</td>\n",
       "      <td>0.000000</td>\n",
       "      <td>0.000000</td>\n",
       "      <td>0.000000</td>\n",
       "      <td>0.000000</td>\n",
       "      <td>...</td>\n",
       "      <td>0.000000</td>\n",
       "      <td>0.000000</td>\n",
       "      <td>0.000000</td>\n",
       "      <td>0.000000</td>\n",
       "      <td>0.000000</td>\n",
       "      <td>0.000000</td>\n",
       "      <td>0.000000</td>\n",
       "      <td>0.000000</td>\n",
       "      <td>0.000000</td>\n",
       "      <td>-1.139629e+00</td>\n",
       "    </tr>\n",
       "    <tr>\n",
       "      <td>50%</td>\n",
       "      <td>8.000000</td>\n",
       "      <td>3.875000</td>\n",
       "      <td>1.830000e+05</td>\n",
       "      <td>72.000000</td>\n",
       "      <td>31.000000</td>\n",
       "      <td>0.000000</td>\n",
       "      <td>0.000000</td>\n",
       "      <td>0.000000</td>\n",
       "      <td>0.000000</td>\n",
       "      <td>0.000000</td>\n",
       "      <td>...</td>\n",
       "      <td>0.000000</td>\n",
       "      <td>0.000000</td>\n",
       "      <td>0.000000</td>\n",
       "      <td>0.000000</td>\n",
       "      <td>0.000000</td>\n",
       "      <td>1.000000</td>\n",
       "      <td>0.000000</td>\n",
       "      <td>1.000000</td>\n",
       "      <td>0.000000</td>\n",
       "      <td>6.545230e-01</td>\n",
       "    </tr>\n",
       "    <tr>\n",
       "      <td>75%</td>\n",
       "      <td>8.000000</td>\n",
       "      <td>4.125000</td>\n",
       "      <td>2.800000e+05</td>\n",
       "      <td>80.000000</td>\n",
       "      <td>39.000000</td>\n",
       "      <td>0.000000</td>\n",
       "      <td>0.000000</td>\n",
       "      <td>0.000000</td>\n",
       "      <td>0.000000</td>\n",
       "      <td>0.000000</td>\n",
       "      <td>...</td>\n",
       "      <td>0.000000</td>\n",
       "      <td>0.000000</td>\n",
       "      <td>0.000000</td>\n",
       "      <td>0.000000</td>\n",
       "      <td>0.000000</td>\n",
       "      <td>1.000000</td>\n",
       "      <td>1.000000</td>\n",
       "      <td>1.000000</td>\n",
       "      <td>1.000000</td>\n",
       "      <td>8.880964e-01</td>\n",
       "    </tr>\n",
       "    <tr>\n",
       "      <td>max</td>\n",
       "      <td>18.000000</td>\n",
       "      <td>5.875000</td>\n",
       "      <td>1.200000e+06</td>\n",
       "      <td>97.000000</td>\n",
       "      <td>56.000000</td>\n",
       "      <td>3.000000</td>\n",
       "      <td>4.000000</td>\n",
       "      <td>5.000000</td>\n",
       "      <td>6.000000</td>\n",
       "      <td>7.000000</td>\n",
       "      <td>...</td>\n",
       "      <td>10.000000</td>\n",
       "      <td>11.000000</td>\n",
       "      <td>12.000000</td>\n",
       "      <td>13.000000</td>\n",
       "      <td>14.000000</td>\n",
       "      <td>1.000000</td>\n",
       "      <td>1.000000</td>\n",
       "      <td>1.000000</td>\n",
       "      <td>1.000000</td>\n",
       "      <td>1.096002e+00</td>\n",
       "    </tr>\n",
       "  </tbody>\n",
       "</table>\n",
       "<p>8 rows × 22 columns</p>\n",
       "</div>"
      ],
      "text/plain": [
       "       financial_institution  interest_rate  unpaid_principal_bal  \\\n",
       "count           23212.000000   23212.000000          2.321200e+04   \n",
       "mean                6.552731       3.868762          2.089418e+05   \n",
       "std                 4.476105       0.460605          1.149227e+05   \n",
       "min                 0.000000       2.375000          1.100000e+04   \n",
       "25%                 1.000000       3.500000          1.200000e+05   \n",
       "50%                 8.000000       3.875000          1.830000e+05   \n",
       "75%                 8.000000       4.125000          2.800000e+05   \n",
       "max                18.000000       5.875000          1.200000e+06   \n",
       "\n",
       "       loan_to_value  debt_to_income_ratio            m1            m2  \\\n",
       "count   23212.000000          23212.000000  23212.000000  23212.000000   \n",
       "mean       67.461270             30.760296      0.003274      0.002068   \n",
       "std        17.151488              9.732222      0.066857      0.057933   \n",
       "min         6.000000              1.000000      0.000000      0.000000   \n",
       "25%        57.000000             23.000000      0.000000      0.000000   \n",
       "50%        72.000000             31.000000      0.000000      0.000000   \n",
       "75%        80.000000             39.000000      0.000000      0.000000   \n",
       "max        97.000000             56.000000      3.000000      4.000000   \n",
       "\n",
       "                 m3            m4            m5  ...            m8  \\\n",
       "count  23212.000000  23212.000000  23212.000000  ...  23212.000000   \n",
       "mean       0.002456      0.002930      0.004739  ...      0.005816   \n",
       "std        0.071560      0.088502      0.110122  ...      0.133588   \n",
       "min        0.000000      0.000000      0.000000  ...      0.000000   \n",
       "25%        0.000000      0.000000      0.000000  ...      0.000000   \n",
       "50%        0.000000      0.000000      0.000000  ...      0.000000   \n",
       "75%        0.000000      0.000000      0.000000  ...      0.000000   \n",
       "max        5.000000      6.000000      7.000000  ...     10.000000   \n",
       "\n",
       "                 m9           m10           m11           m12             X  \\\n",
       "count  23212.000000  23212.000000  23212.000000  23212.000000  23212.000000   \n",
       "mean       0.005773      0.007151      0.007151      0.008659      0.551051   \n",
       "std        0.143989      0.158731      0.178652      0.202230      0.497398   \n",
       "min        0.000000      0.000000      0.000000      0.000000      0.000000   \n",
       "25%        0.000000      0.000000      0.000000      0.000000      0.000000   \n",
       "50%        0.000000      0.000000      0.000000      0.000000      1.000000   \n",
       "75%        0.000000      0.000000      0.000000      0.000000      1.000000   \n",
       "max       11.000000     12.000000     13.000000     14.000000      1.000000   \n",
       "\n",
       "                  Y           A23           B12  avg_credit_score  \n",
       "count  23212.000000  23212.000000  23212.000000      2.321200e+04  \n",
       "mean       0.324660      0.501551      0.255040      1.303503e-16  \n",
       "std        0.468258      0.500008      0.435893      1.000022e+00  \n",
       "min        0.000000      0.000000      0.000000     -3.159653e+00  \n",
       "25%        0.000000      0.000000      0.000000     -1.139629e+00  \n",
       "50%        0.000000      1.000000      0.000000      6.545230e-01  \n",
       "75%        1.000000      1.000000      1.000000      8.880964e-01  \n",
       "max        1.000000      1.000000      1.000000      1.096002e+00  \n",
       "\n",
       "[8 rows x 22 columns]"
      ]
     },
     "execution_count": 47,
     "metadata": {},
     "output_type": "execute_result"
    }
   ],
   "source": [
    "ss = StandardScaler()\n",
    "\n",
    "scale = ss.fit(test[['avg_credit_score']])\n",
    "\n",
    "test['avg_credit_score'] = scale.transform(test[['avg_credit_score']])\n",
    "test.describe()"
   ]
  },
  {
   "cell_type": "code",
   "execution_count": 48,
   "metadata": {},
   "outputs": [
    {
     "data": {
      "text/html": [
       "<div>\n",
       "<style scoped>\n",
       "    .dataframe tbody tr th:only-of-type {\n",
       "        vertical-align: middle;\n",
       "    }\n",
       "\n",
       "    .dataframe tbody tr th {\n",
       "        vertical-align: top;\n",
       "    }\n",
       "\n",
       "    .dataframe thead th {\n",
       "        text-align: right;\n",
       "    }\n",
       "</style>\n",
       "<table border=\"1\" class=\"dataframe\">\n",
       "  <thead>\n",
       "    <tr style=\"text-align: right;\">\n",
       "      <th></th>\n",
       "      <th>financial_institution</th>\n",
       "      <th>interest_rate</th>\n",
       "      <th>unpaid_principal_bal</th>\n",
       "      <th>loan_to_value</th>\n",
       "      <th>debt_to_income_ratio</th>\n",
       "      <th>m1</th>\n",
       "      <th>m2</th>\n",
       "      <th>m3</th>\n",
       "      <th>m4</th>\n",
       "      <th>m5</th>\n",
       "      <th>...</th>\n",
       "      <th>m8</th>\n",
       "      <th>m9</th>\n",
       "      <th>m10</th>\n",
       "      <th>m11</th>\n",
       "      <th>m12</th>\n",
       "      <th>X</th>\n",
       "      <th>Y</th>\n",
       "      <th>A23</th>\n",
       "      <th>B12</th>\n",
       "      <th>avg_credit_score</th>\n",
       "    </tr>\n",
       "  </thead>\n",
       "  <tbody>\n",
       "    <tr>\n",
       "      <td>count</td>\n",
       "      <td>23212.000000</td>\n",
       "      <td>23212.000000</td>\n",
       "      <td>2.321200e+04</td>\n",
       "      <td>23212.000000</td>\n",
       "      <td>23212.000000</td>\n",
       "      <td>23212.000000</td>\n",
       "      <td>23212.000000</td>\n",
       "      <td>23212.000000</td>\n",
       "      <td>23212.000000</td>\n",
       "      <td>23212.000000</td>\n",
       "      <td>...</td>\n",
       "      <td>23212.000000</td>\n",
       "      <td>23212.000000</td>\n",
       "      <td>23212.000000</td>\n",
       "      <td>23212.000000</td>\n",
       "      <td>23212.000000</td>\n",
       "      <td>23212.000000</td>\n",
       "      <td>23212.000000</td>\n",
       "      <td>23212.000000</td>\n",
       "      <td>23212.000000</td>\n",
       "      <td>2.321200e+04</td>\n",
       "    </tr>\n",
       "    <tr>\n",
       "      <td>mean</td>\n",
       "      <td>6.552731</td>\n",
       "      <td>3.868762</td>\n",
       "      <td>-4.113354e-17</td>\n",
       "      <td>67.461270</td>\n",
       "      <td>30.760296</td>\n",
       "      <td>0.003274</td>\n",
       "      <td>0.002068</td>\n",
       "      <td>0.002456</td>\n",
       "      <td>0.002930</td>\n",
       "      <td>0.004739</td>\n",
       "      <td>...</td>\n",
       "      <td>0.005816</td>\n",
       "      <td>0.005773</td>\n",
       "      <td>0.007151</td>\n",
       "      <td>0.007151</td>\n",
       "      <td>0.008659</td>\n",
       "      <td>0.551051</td>\n",
       "      <td>0.324660</td>\n",
       "      <td>0.501551</td>\n",
       "      <td>0.255040</td>\n",
       "      <td>1.303503e-16</td>\n",
       "    </tr>\n",
       "    <tr>\n",
       "      <td>std</td>\n",
       "      <td>4.476105</td>\n",
       "      <td>0.460605</td>\n",
       "      <td>1.000022e+00</td>\n",
       "      <td>17.151488</td>\n",
       "      <td>9.732222</td>\n",
       "      <td>0.066857</td>\n",
       "      <td>0.057933</td>\n",
       "      <td>0.071560</td>\n",
       "      <td>0.088502</td>\n",
       "      <td>0.110122</td>\n",
       "      <td>...</td>\n",
       "      <td>0.133588</td>\n",
       "      <td>0.143989</td>\n",
       "      <td>0.158731</td>\n",
       "      <td>0.178652</td>\n",
       "      <td>0.202230</td>\n",
       "      <td>0.497398</td>\n",
       "      <td>0.468258</td>\n",
       "      <td>0.500008</td>\n",
       "      <td>0.435893</td>\n",
       "      <td>1.000022e+00</td>\n",
       "    </tr>\n",
       "    <tr>\n",
       "      <td>min</td>\n",
       "      <td>0.000000</td>\n",
       "      <td>2.375000</td>\n",
       "      <td>-1.722428e+00</td>\n",
       "      <td>6.000000</td>\n",
       "      <td>1.000000</td>\n",
       "      <td>0.000000</td>\n",
       "      <td>0.000000</td>\n",
       "      <td>0.000000</td>\n",
       "      <td>0.000000</td>\n",
       "      <td>0.000000</td>\n",
       "      <td>...</td>\n",
       "      <td>0.000000</td>\n",
       "      <td>0.000000</td>\n",
       "      <td>0.000000</td>\n",
       "      <td>0.000000</td>\n",
       "      <td>0.000000</td>\n",
       "      <td>0.000000</td>\n",
       "      <td>0.000000</td>\n",
       "      <td>0.000000</td>\n",
       "      <td>0.000000</td>\n",
       "      <td>-3.159653e+00</td>\n",
       "    </tr>\n",
       "    <tr>\n",
       "      <td>25%</td>\n",
       "      <td>1.000000</td>\n",
       "      <td>3.500000</td>\n",
       "      <td>-7.739440e-01</td>\n",
       "      <td>57.000000</td>\n",
       "      <td>23.000000</td>\n",
       "      <td>0.000000</td>\n",
       "      <td>0.000000</td>\n",
       "      <td>0.000000</td>\n",
       "      <td>0.000000</td>\n",
       "      <td>0.000000</td>\n",
       "      <td>...</td>\n",
       "      <td>0.000000</td>\n",
       "      <td>0.000000</td>\n",
       "      <td>0.000000</td>\n",
       "      <td>0.000000</td>\n",
       "      <td>0.000000</td>\n",
       "      <td>0.000000</td>\n",
       "      <td>0.000000</td>\n",
       "      <td>0.000000</td>\n",
       "      <td>0.000000</td>\n",
       "      <td>-1.139629e+00</td>\n",
       "    </tr>\n",
       "    <tr>\n",
       "      <td>50%</td>\n",
       "      <td>8.000000</td>\n",
       "      <td>3.875000</td>\n",
       "      <td>-2.257375e-01</td>\n",
       "      <td>72.000000</td>\n",
       "      <td>31.000000</td>\n",
       "      <td>0.000000</td>\n",
       "      <td>0.000000</td>\n",
       "      <td>0.000000</td>\n",
       "      <td>0.000000</td>\n",
       "      <td>0.000000</td>\n",
       "      <td>...</td>\n",
       "      <td>0.000000</td>\n",
       "      <td>0.000000</td>\n",
       "      <td>0.000000</td>\n",
       "      <td>0.000000</td>\n",
       "      <td>0.000000</td>\n",
       "      <td>1.000000</td>\n",
       "      <td>0.000000</td>\n",
       "      <td>1.000000</td>\n",
       "      <td>0.000000</td>\n",
       "      <td>6.545230e-01</td>\n",
       "    </tr>\n",
       "    <tr>\n",
       "      <td>75%</td>\n",
       "      <td>8.000000</td>\n",
       "      <td>4.125000</td>\n",
       "      <td>6.183265e-01</td>\n",
       "      <td>80.000000</td>\n",
       "      <td>39.000000</td>\n",
       "      <td>0.000000</td>\n",
       "      <td>0.000000</td>\n",
       "      <td>0.000000</td>\n",
       "      <td>0.000000</td>\n",
       "      <td>0.000000</td>\n",
       "      <td>...</td>\n",
       "      <td>0.000000</td>\n",
       "      <td>0.000000</td>\n",
       "      <td>0.000000</td>\n",
       "      <td>0.000000</td>\n",
       "      <td>0.000000</td>\n",
       "      <td>1.000000</td>\n",
       "      <td>1.000000</td>\n",
       "      <td>1.000000</td>\n",
       "      <td>1.000000</td>\n",
       "      <td>8.880964e-01</td>\n",
       "    </tr>\n",
       "    <tr>\n",
       "      <td>max</td>\n",
       "      <td>18.000000</td>\n",
       "      <td>5.875000</td>\n",
       "      <td>8.623881e+00</td>\n",
       "      <td>97.000000</td>\n",
       "      <td>56.000000</td>\n",
       "      <td>3.000000</td>\n",
       "      <td>4.000000</td>\n",
       "      <td>5.000000</td>\n",
       "      <td>6.000000</td>\n",
       "      <td>7.000000</td>\n",
       "      <td>...</td>\n",
       "      <td>10.000000</td>\n",
       "      <td>11.000000</td>\n",
       "      <td>12.000000</td>\n",
       "      <td>13.000000</td>\n",
       "      <td>14.000000</td>\n",
       "      <td>1.000000</td>\n",
       "      <td>1.000000</td>\n",
       "      <td>1.000000</td>\n",
       "      <td>1.000000</td>\n",
       "      <td>1.096002e+00</td>\n",
       "    </tr>\n",
       "  </tbody>\n",
       "</table>\n",
       "<p>8 rows × 22 columns</p>\n",
       "</div>"
      ],
      "text/plain": [
       "       financial_institution  interest_rate  unpaid_principal_bal  \\\n",
       "count           23212.000000   23212.000000          2.321200e+04   \n",
       "mean                6.552731       3.868762         -4.113354e-17   \n",
       "std                 4.476105       0.460605          1.000022e+00   \n",
       "min                 0.000000       2.375000         -1.722428e+00   \n",
       "25%                 1.000000       3.500000         -7.739440e-01   \n",
       "50%                 8.000000       3.875000         -2.257375e-01   \n",
       "75%                 8.000000       4.125000          6.183265e-01   \n",
       "max                18.000000       5.875000          8.623881e+00   \n",
       "\n",
       "       loan_to_value  debt_to_income_ratio            m1            m2  \\\n",
       "count   23212.000000          23212.000000  23212.000000  23212.000000   \n",
       "mean       67.461270             30.760296      0.003274      0.002068   \n",
       "std        17.151488              9.732222      0.066857      0.057933   \n",
       "min         6.000000              1.000000      0.000000      0.000000   \n",
       "25%        57.000000             23.000000      0.000000      0.000000   \n",
       "50%        72.000000             31.000000      0.000000      0.000000   \n",
       "75%        80.000000             39.000000      0.000000      0.000000   \n",
       "max        97.000000             56.000000      3.000000      4.000000   \n",
       "\n",
       "                 m3            m4            m5  ...            m8  \\\n",
       "count  23212.000000  23212.000000  23212.000000  ...  23212.000000   \n",
       "mean       0.002456      0.002930      0.004739  ...      0.005816   \n",
       "std        0.071560      0.088502      0.110122  ...      0.133588   \n",
       "min        0.000000      0.000000      0.000000  ...      0.000000   \n",
       "25%        0.000000      0.000000      0.000000  ...      0.000000   \n",
       "50%        0.000000      0.000000      0.000000  ...      0.000000   \n",
       "75%        0.000000      0.000000      0.000000  ...      0.000000   \n",
       "max        5.000000      6.000000      7.000000  ...     10.000000   \n",
       "\n",
       "                 m9           m10           m11           m12             X  \\\n",
       "count  23212.000000  23212.000000  23212.000000  23212.000000  23212.000000   \n",
       "mean       0.005773      0.007151      0.007151      0.008659      0.551051   \n",
       "std        0.143989      0.158731      0.178652      0.202230      0.497398   \n",
       "min        0.000000      0.000000      0.000000      0.000000      0.000000   \n",
       "25%        0.000000      0.000000      0.000000      0.000000      0.000000   \n",
       "50%        0.000000      0.000000      0.000000      0.000000      1.000000   \n",
       "75%        0.000000      0.000000      0.000000      0.000000      1.000000   \n",
       "max       11.000000     12.000000     13.000000     14.000000      1.000000   \n",
       "\n",
       "                  Y           A23           B12  avg_credit_score  \n",
       "count  23212.000000  23212.000000  23212.000000      2.321200e+04  \n",
       "mean       0.324660      0.501551      0.255040      1.303503e-16  \n",
       "std        0.468258      0.500008      0.435893      1.000022e+00  \n",
       "min        0.000000      0.000000      0.000000     -3.159653e+00  \n",
       "25%        0.000000      0.000000      0.000000     -1.139629e+00  \n",
       "50%        0.000000      1.000000      0.000000      6.545230e-01  \n",
       "75%        1.000000      1.000000      1.000000      8.880964e-01  \n",
       "max        1.000000      1.000000      1.000000      1.096002e+00  \n",
       "\n",
       "[8 rows x 22 columns]"
      ]
     },
     "execution_count": 48,
     "metadata": {},
     "output_type": "execute_result"
    }
   ],
   "source": [
    "ss = StandardScaler()\n",
    "#Fit on training data column\n",
    "scale = ss.fit(test[['unpaid_principal_bal']])\n",
    "#Transform\n",
    "test['unpaid_principal_bal'] = scale.transform(test[['unpaid_principal_bal']])\n",
    "test.describe()"
   ]
  },
  {
   "cell_type": "code",
   "execution_count": 49,
   "metadata": {},
   "outputs": [
    {
     "data": {
      "text/html": [
       "<div>\n",
       "<style scoped>\n",
       "    .dataframe tbody tr th:only-of-type {\n",
       "        vertical-align: middle;\n",
       "    }\n",
       "\n",
       "    .dataframe tbody tr th {\n",
       "        vertical-align: top;\n",
       "    }\n",
       "\n",
       "    .dataframe thead th {\n",
       "        text-align: right;\n",
       "    }\n",
       "</style>\n",
       "<table border=\"1\" class=\"dataframe\">\n",
       "  <thead>\n",
       "    <tr style=\"text-align: right;\">\n",
       "      <th></th>\n",
       "      <th>financial_institution</th>\n",
       "      <th>interest_rate</th>\n",
       "      <th>unpaid_principal_bal</th>\n",
       "      <th>loan_to_value</th>\n",
       "      <th>debt_to_income_ratio</th>\n",
       "      <th>m1</th>\n",
       "      <th>m2</th>\n",
       "      <th>m3</th>\n",
       "      <th>m4</th>\n",
       "      <th>m5</th>\n",
       "      <th>...</th>\n",
       "      <th>m9</th>\n",
       "      <th>m10</th>\n",
       "      <th>m11</th>\n",
       "      <th>m12</th>\n",
       "      <th>m13</th>\n",
       "      <th>X</th>\n",
       "      <th>Y</th>\n",
       "      <th>A23</th>\n",
       "      <th>B12</th>\n",
       "      <th>avg_credit_score</th>\n",
       "    </tr>\n",
       "  </thead>\n",
       "  <tbody>\n",
       "    <tr>\n",
       "      <td>count</td>\n",
       "      <td>92837.000000</td>\n",
       "      <td>92837.000000</td>\n",
       "      <td>9.283700e+04</td>\n",
       "      <td>92837.000000</td>\n",
       "      <td>92837.000000</td>\n",
       "      <td>92837.000000</td>\n",
       "      <td>92837.000000</td>\n",
       "      <td>92837.000000</td>\n",
       "      <td>92837.000000</td>\n",
       "      <td>92837.000000</td>\n",
       "      <td>...</td>\n",
       "      <td>92837.000000</td>\n",
       "      <td>92837.000000</td>\n",
       "      <td>92837.000000</td>\n",
       "      <td>92837.000000</td>\n",
       "      <td>92837.000000</td>\n",
       "      <td>92837.000000</td>\n",
       "      <td>92837.00000</td>\n",
       "      <td>92837.000000</td>\n",
       "      <td>92837.000000</td>\n",
       "      <td>9.283700e+04</td>\n",
       "    </tr>\n",
       "    <tr>\n",
       "      <td>mean</td>\n",
       "      <td>6.508375</td>\n",
       "      <td>3.868864</td>\n",
       "      <td>5.599608e-17</td>\n",
       "      <td>67.423043</td>\n",
       "      <td>30.736980</td>\n",
       "      <td>0.003178</td>\n",
       "      <td>0.002057</td>\n",
       "      <td>0.001853</td>\n",
       "      <td>0.001993</td>\n",
       "      <td>0.003231</td>\n",
       "      <td>...</td>\n",
       "      <td>0.005246</td>\n",
       "      <td>0.006484</td>\n",
       "      <td>0.007098</td>\n",
       "      <td>0.007917</td>\n",
       "      <td>0.005440</td>\n",
       "      <td>0.549996</td>\n",
       "      <td>0.32333</td>\n",
       "      <td>0.504282</td>\n",
       "      <td>0.252723</td>\n",
       "      <td>2.627710e-16</td>\n",
       "    </tr>\n",
       "    <tr>\n",
       "      <td>std</td>\n",
       "      <td>4.444594</td>\n",
       "      <td>0.460734</td>\n",
       "      <td>1.000005e+00</td>\n",
       "      <td>17.326579</td>\n",
       "      <td>9.729672</td>\n",
       "      <td>0.062450</td>\n",
       "      <td>0.049623</td>\n",
       "      <td>0.050599</td>\n",
       "      <td>0.053592</td>\n",
       "      <td>0.074193</td>\n",
       "      <td>...</td>\n",
       "      <td>0.123957</td>\n",
       "      <td>0.145749</td>\n",
       "      <td>0.158706</td>\n",
       "      <td>0.171584</td>\n",
       "      <td>0.073553</td>\n",
       "      <td>0.497497</td>\n",
       "      <td>0.46775</td>\n",
       "      <td>0.499984</td>\n",
       "      <td>0.434576</td>\n",
       "      <td>1.000005e+00</td>\n",
       "    </tr>\n",
       "    <tr>\n",
       "      <td>min</td>\n",
       "      <td>0.000000</td>\n",
       "      <td>2.250000</td>\n",
       "      <td>-1.692940e+00</td>\n",
       "      <td>6.000000</td>\n",
       "      <td>1.000000</td>\n",
       "      <td>0.000000</td>\n",
       "      <td>0.000000</td>\n",
       "      <td>0.000000</td>\n",
       "      <td>0.000000</td>\n",
       "      <td>0.000000</td>\n",
       "      <td>...</td>\n",
       "      <td>0.000000</td>\n",
       "      <td>0.000000</td>\n",
       "      <td>0.000000</td>\n",
       "      <td>0.000000</td>\n",
       "      <td>0.000000</td>\n",
       "      <td>0.000000</td>\n",
       "      <td>0.00000</td>\n",
       "      <td>0.000000</td>\n",
       "      <td>0.000000</td>\n",
       "      <td>-3.144248e+00</td>\n",
       "    </tr>\n",
       "    <tr>\n",
       "      <td>25%</td>\n",
       "      <td>1.000000</td>\n",
       "      <td>3.500000</td>\n",
       "      <td>-7.681834e-01</td>\n",
       "      <td>57.000000</td>\n",
       "      <td>23.000000</td>\n",
       "      <td>0.000000</td>\n",
       "      <td>0.000000</td>\n",
       "      <td>0.000000</td>\n",
       "      <td>0.000000</td>\n",
       "      <td>0.000000</td>\n",
       "      <td>...</td>\n",
       "      <td>0.000000</td>\n",
       "      <td>0.000000</td>\n",
       "      <td>0.000000</td>\n",
       "      <td>0.000000</td>\n",
       "      <td>0.000000</td>\n",
       "      <td>0.000000</td>\n",
       "      <td>0.00000</td>\n",
       "      <td>0.000000</td>\n",
       "      <td>0.000000</td>\n",
       "      <td>-1.133694e+00</td>\n",
       "    </tr>\n",
       "    <tr>\n",
       "      <td>50%</td>\n",
       "      <td>8.000000</td>\n",
       "      <td>3.875000</td>\n",
       "      <td>-2.272879e-01</td>\n",
       "      <td>72.000000</td>\n",
       "      <td>31.000000</td>\n",
       "      <td>0.000000</td>\n",
       "      <td>0.000000</td>\n",
       "      <td>0.000000</td>\n",
       "      <td>0.000000</td>\n",
       "      <td>0.000000</td>\n",
       "      <td>...</td>\n",
       "      <td>0.000000</td>\n",
       "      <td>0.000000</td>\n",
       "      <td>0.000000</td>\n",
       "      <td>0.000000</td>\n",
       "      <td>0.000000</td>\n",
       "      <td>1.000000</td>\n",
       "      <td>0.00000</td>\n",
       "      <td>1.000000</td>\n",
       "      <td>0.000000</td>\n",
       "      <td>6.568751e-01</td>\n",
       "    </tr>\n",
       "    <tr>\n",
       "      <td>75%</td>\n",
       "      <td>8.000000</td>\n",
       "      <td>4.125000</td>\n",
       "      <td>6.102277e-01</td>\n",
       "      <td>80.000000</td>\n",
       "      <td>39.000000</td>\n",
       "      <td>0.000000</td>\n",
       "      <td>0.000000</td>\n",
       "      <td>0.000000</td>\n",
       "      <td>0.000000</td>\n",
       "      <td>0.000000</td>\n",
       "      <td>...</td>\n",
       "      <td>0.000000</td>\n",
       "      <td>0.000000</td>\n",
       "      <td>0.000000</td>\n",
       "      <td>0.000000</td>\n",
       "      <td>0.000000</td>\n",
       "      <td>1.000000</td>\n",
       "      <td>1.00000</td>\n",
       "      <td>1.000000</td>\n",
       "      <td>1.000000</td>\n",
       "      <td>8.922071e-01</td>\n",
       "    </tr>\n",
       "    <tr>\n",
       "      <td>max</td>\n",
       "      <td>18.000000</td>\n",
       "      <td>6.000000</td>\n",
       "      <td>6.167493e+00</td>\n",
       "      <td>97.000000</td>\n",
       "      <td>58.000000</td>\n",
       "      <td>3.000000</td>\n",
       "      <td>3.000000</td>\n",
       "      <td>4.000000</td>\n",
       "      <td>5.000000</td>\n",
       "      <td>6.000000</td>\n",
       "      <td>...</td>\n",
       "      <td>10.000000</td>\n",
       "      <td>11.000000</td>\n",
       "      <td>11.000000</td>\n",
       "      <td>11.000000</td>\n",
       "      <td>1.000000</td>\n",
       "      <td>1.000000</td>\n",
       "      <td>1.00000</td>\n",
       "      <td>1.000000</td>\n",
       "      <td>1.000000</td>\n",
       "      <td>1.104517e+00</td>\n",
       "    </tr>\n",
       "  </tbody>\n",
       "</table>\n",
       "<p>8 rows × 23 columns</p>\n",
       "</div>"
      ],
      "text/plain": [
       "       financial_institution  interest_rate  unpaid_principal_bal  \\\n",
       "count           92837.000000   92837.000000          9.283700e+04   \n",
       "mean                6.508375       3.868864          5.599608e-17   \n",
       "std                 4.444594       0.460734          1.000005e+00   \n",
       "min                 0.000000       2.250000         -1.692940e+00   \n",
       "25%                 1.000000       3.500000         -7.681834e-01   \n",
       "50%                 8.000000       3.875000         -2.272879e-01   \n",
       "75%                 8.000000       4.125000          6.102277e-01   \n",
       "max                18.000000       6.000000          6.167493e+00   \n",
       "\n",
       "       loan_to_value  debt_to_income_ratio            m1            m2  \\\n",
       "count   92837.000000          92837.000000  92837.000000  92837.000000   \n",
       "mean       67.423043             30.736980      0.003178      0.002057   \n",
       "std        17.326579              9.729672      0.062450      0.049623   \n",
       "min         6.000000              1.000000      0.000000      0.000000   \n",
       "25%        57.000000             23.000000      0.000000      0.000000   \n",
       "50%        72.000000             31.000000      0.000000      0.000000   \n",
       "75%        80.000000             39.000000      0.000000      0.000000   \n",
       "max        97.000000             58.000000      3.000000      3.000000   \n",
       "\n",
       "                 m3            m4            m5  ...            m9  \\\n",
       "count  92837.000000  92837.000000  92837.000000  ...  92837.000000   \n",
       "mean       0.001853      0.001993      0.003231  ...      0.005246   \n",
       "std        0.050599      0.053592      0.074193  ...      0.123957   \n",
       "min        0.000000      0.000000      0.000000  ...      0.000000   \n",
       "25%        0.000000      0.000000      0.000000  ...      0.000000   \n",
       "50%        0.000000      0.000000      0.000000  ...      0.000000   \n",
       "75%        0.000000      0.000000      0.000000  ...      0.000000   \n",
       "max        4.000000      5.000000      6.000000  ...     10.000000   \n",
       "\n",
       "                m10           m11           m12           m13             X  \\\n",
       "count  92837.000000  92837.000000  92837.000000  92837.000000  92837.000000   \n",
       "mean       0.006484      0.007098      0.007917      0.005440      0.549996   \n",
       "std        0.145749      0.158706      0.171584      0.073553      0.497497   \n",
       "min        0.000000      0.000000      0.000000      0.000000      0.000000   \n",
       "25%        0.000000      0.000000      0.000000      0.000000      0.000000   \n",
       "50%        0.000000      0.000000      0.000000      0.000000      1.000000   \n",
       "75%        0.000000      0.000000      0.000000      0.000000      1.000000   \n",
       "max       11.000000     11.000000     11.000000      1.000000      1.000000   \n",
       "\n",
       "                 Y           A23           B12  avg_credit_score  \n",
       "count  92837.00000  92837.000000  92837.000000      9.283700e+04  \n",
       "mean       0.32333      0.504282      0.252723      2.627710e-16  \n",
       "std        0.46775      0.499984      0.434576      1.000005e+00  \n",
       "min        0.00000      0.000000      0.000000     -3.144248e+00  \n",
       "25%        0.00000      0.000000      0.000000     -1.133694e+00  \n",
       "50%        0.00000      1.000000      0.000000      6.568751e-01  \n",
       "75%        1.00000      1.000000      1.000000      8.922071e-01  \n",
       "max        1.00000      1.000000      1.000000      1.104517e+00  \n",
       "\n",
       "[8 rows x 23 columns]"
      ]
     },
     "execution_count": 49,
     "metadata": {},
     "output_type": "execute_result"
    }
   ],
   "source": [
    "ss = StandardScaler()\n",
    "#Fit on training data column\n",
    "scale = ss.fit(train[['unpaid_principal_bal']])\n",
    "#Transform\n",
    "train['unpaid_principal_bal'] = scale.transform(train[['unpaid_principal_bal']])\n",
    "train.describe()"
   ]
  },
  {
   "cell_type": "markdown",
   "metadata": {},
   "source": [
    "<a id = '6'></a>"
   ]
  },
  {
   "cell_type": "markdown",
   "metadata": {},
   "source": [
    "# SAMPLING"
   ]
  },
  {
   "cell_type": "markdown",
   "metadata": {},
   "source": [
    "### ADASYN SAMPLING"
   ]
  },
  {
   "cell_type": "code",
   "execution_count": 50,
   "metadata": {},
   "outputs": [
    {
     "name": "stdout",
     "output_type": "stream",
     "text": [
      "Counter({0: 92332, 1: 505})\n"
     ]
    }
   ],
   "source": [
    "from collections import Counter\n",
    "x = train.drop(columns='m13', axis = 1)\n",
    "y = train['m13']\n",
    "\n",
    "print(Counter(y))"
   ]
  },
  {
   "cell_type": "code",
   "execution_count": 51,
   "metadata": {},
   "outputs": [
    {
     "name": "stderr",
     "output_type": "stream",
     "text": [
      "Using TensorFlow backend.\n"
     ]
    },
    {
     "name": "stdout",
     "output_type": "stream",
     "text": [
      "Counter({0: 92332, 1: 92248})\n"
     ]
    }
   ],
   "source": [
    "from imblearn.over_sampling import ADASYN \n",
    "sm = ADASYN()\n",
    "x_adasyn, y_adasyn = sm.fit_sample(x, y)\n",
    "\n",
    "print(Counter(y_adasyn))"
   ]
  },
  {
   "cell_type": "markdown",
   "metadata": {},
   "source": [
    "### Splitting into train and validation set - StratifiedKFold"
   ]
  },
  {
   "cell_type": "code",
   "execution_count": 52,
   "metadata": {},
   "outputs": [],
   "source": [
    "from sklearn.model_selection import StratifiedKFold"
   ]
  },
  {
   "cell_type": "code",
   "execution_count": 53,
   "metadata": {},
   "outputs": [
    {
     "data": {
      "text/plain": [
       "5"
      ]
     },
     "execution_count": 53,
     "metadata": {},
     "output_type": "execute_result"
    }
   ],
   "source": [
    "skf_adasyn = StratifiedKFold(n_splits=5, random_state=21)\n",
    "skf_adasyn.get_n_splits(x_adasyn, y_adasyn)"
   ]
  },
  {
   "cell_type": "code",
   "execution_count": 54,
   "metadata": {},
   "outputs": [
    {
     "name": "stdout",
     "output_type": "stream",
     "text": [
      "TRAIN: [ 18573  18574  18575 ... 184577 184578 184579] TEST: [     0      1      2 ... 110779 110780 110781]\n",
      "TRAIN: [     0      1      2 ... 184577 184578 184579] TEST: [ 18573  18574  18575 ... 129229 129230 129231]\n",
      "TRAIN: [     0      1      2 ... 184577 184578 184579] TEST: [ 37143  37144  37145 ... 147679 147680 147681]\n",
      "TRAIN: [     0      1      2 ... 184577 184578 184579] TEST: [ 55696  55697  55698 ... 166128 166129 166130]\n",
      "TRAIN: [     0      1      2 ... 166128 166129 166130] TEST: [ 74270  74271  74272 ... 184577 184578 184579]\n"
     ]
    }
   ],
   "source": [
    "for train_index, test_index in skf_adasyn.split(x_adasyn, y_adasyn):\n",
    "    print(\"TRAIN:\", train_index, \"TEST:\", test_index)\n",
    "    X_adasyn_st_train, X_adasyn_st_test = x_adasyn[train_index], x_adasyn[test_index]\n",
    "    y_adasyn_st_train, y_adasyn_st_test = y_adasyn[train_index], y_adasyn[test_index]"
   ]
  },
  {
   "cell_type": "markdown",
   "metadata": {},
   "source": [
    "<a id = '7'></a>"
   ]
  },
  {
   "cell_type": "markdown",
   "metadata": {},
   "source": [
    "# MODEL BUILDING"
   ]
  },
  {
   "cell_type": "markdown",
   "metadata": {},
   "source": [
    "## Logistic Regression"
   ]
  },
  {
   "cell_type": "code",
   "execution_count": 55,
   "metadata": {},
   "outputs": [],
   "source": [
    "from sklearn.linear_model import LogisticRegression\n",
    "logreg_adasyn = LogisticRegression(solver='lbfgs',max_iter=1000)\n",
    "logreg_adasyn.fit(X_adasyn_st_train,y_adasyn_st_train)\n",
    "y_adasyn_log = logreg_adasyn.predict(X_adasyn_st_test)"
   ]
  },
  {
   "cell_type": "markdown",
   "metadata": {},
   "source": [
    "## RandomForest Classifier"
   ]
  },
  {
   "cell_type": "code",
   "execution_count": 56,
   "metadata": {},
   "outputs": [],
   "source": [
    "from sklearn.ensemble.forest import RandomForestClassifier\n",
    "rf_adasyn =RandomForestClassifier(random_state=21,max_depth= 19 ,min_samples_split= 2 ,n_estimators= 141,\n",
    "                                          min_samples_leaf=1, criterion='entropy',class_weight= {0: 0.8, 1:1})\n",
    "rf_adasyn.fit(X_adasyn_st_train, y_adasyn_st_train)\n",
    "y_adasyn_rf = rf_adasyn.predict(X_adasyn_st_test)"
   ]
  },
  {
   "cell_type": "markdown",
   "metadata": {},
   "source": [
    "## DecisionTrees"
   ]
  },
  {
   "cell_type": "code",
   "execution_count": 57,
   "metadata": {},
   "outputs": [],
   "source": [
    "from sklearn.tree import DecisionTreeClassifier\n",
    "dt_adasyn= DecisionTreeClassifier()\n",
    "dt_adasyn.fit(X_adasyn_st_train, y_adasyn_st_train)\n",
    "y_adasyn_dt = dt_adasyn.predict(X_adasyn_st_test)"
   ]
  },
  {
   "cell_type": "markdown",
   "metadata": {},
   "source": [
    "## XGBoost"
   ]
  },
  {
   "cell_type": "code",
   "execution_count": 58,
   "metadata": {},
   "outputs": [],
   "source": [
    "from xgboost import XGBClassifier\n",
    "xgb_adasyn = XGBClassifier()\n",
    "xgb_adasyn.fit(X_adasyn_st_train, y_adasyn_st_train)\n",
    "y_adasyn_xgb = xgb_adasyn.predict(X_adasyn_st_test)"
   ]
  },
  {
   "cell_type": "markdown",
   "metadata": {},
   "source": [
    "## AdaBoost"
   ]
  },
  {
   "cell_type": "code",
   "execution_count": 59,
   "metadata": {},
   "outputs": [],
   "source": [
    "from sklearn.ensemble import AdaBoostClassifier\n",
    "ada_adasyn = AdaBoostClassifier(n_estimators=100, random_state=77)\n",
    "ada_adasyn.fit(X_adasyn_st_train, y_adasyn_st_train)\n",
    "y_adasyn_ada = ada_adasyn.predict(X_adasyn_st_test)"
   ]
  },
  {
   "cell_type": "markdown",
   "metadata": {},
   "source": [
    "<a id = '8'></a>"
   ]
  },
  {
   "cell_type": "markdown",
   "metadata": {},
   "source": [
    "# SCORES"
   ]
  },
  {
   "cell_type": "markdown",
   "metadata": {},
   "source": [
    "**F1 score is the evaluation metric**"
   ]
  },
  {
   "cell_type": "code",
   "execution_count": 60,
   "metadata": {},
   "outputs": [],
   "source": [
    "from sklearn.metrics import f1_score"
   ]
  },
  {
   "cell_type": "code",
   "execution_count": 61,
   "metadata": {},
   "outputs": [
    {
     "name": "stdout",
     "output_type": "stream",
     "text": [
      "Score with LogisticRegression: 0.853278836328665\n"
     ]
    }
   ],
   "source": [
    "print('Score with LogisticRegression: {}'.format(f1_score(y_adasyn_st_test, y_adasyn_log)))"
   ]
  },
  {
   "cell_type": "code",
   "execution_count": 62,
   "metadata": {},
   "outputs": [
    {
     "name": "stdout",
     "output_type": "stream",
     "text": [
      "Score with RandomForest: 0.9897217210650048\n"
     ]
    }
   ],
   "source": [
    "print('Score with RandomForest: {}'.format(f1_score(y_adasyn_st_test, y_adasyn_rf)))"
   ]
  },
  {
   "cell_type": "code",
   "execution_count": 63,
   "metadata": {},
   "outputs": [
    {
     "name": "stdout",
     "output_type": "stream",
     "text": [
      "Score with DecisionTrees: 0.983351103091938\n"
     ]
    }
   ],
   "source": [
    "print('Score with DecisionTrees: {}'.format(f1_score(y_adasyn_st_test, y_adasyn_dt)))"
   ]
  },
  {
   "cell_type": "code",
   "execution_count": 64,
   "metadata": {},
   "outputs": [
    {
     "name": "stdout",
     "output_type": "stream",
     "text": [
      "Score with XGBoost: 0.9768533863661474\n"
     ]
    }
   ],
   "source": [
    "print('Score with XGBoost: {}'.format(f1_score(y_adasyn_st_test, y_adasyn_xgb)))"
   ]
  },
  {
   "cell_type": "code",
   "execution_count": 65,
   "metadata": {},
   "outputs": [
    {
     "name": "stdout",
     "output_type": "stream",
     "text": [
      "Score with AdaBoost: 0.9729385369636873\n"
     ]
    }
   ],
   "source": [
    "print('Score with AdaBoost: {}'.format(f1_score(y_adasyn_st_test, y_adasyn_ada)))"
   ]
  },
  {
   "cell_type": "markdown",
   "metadata": {},
   "source": [
    "## RandomForest is the best model. Using GridSearchCV to find the best estimator for the model"
   ]
  },
  {
   "cell_type": "markdown",
   "metadata": {},
   "source": [
    "from sklearn.model_selection import GridSearchCV"
   ]
  },
  {
   "cell_type": "markdown",
   "metadata": {},
   "source": [
    "#max_depth = 1 to 20 with interval of 2\n",
    "#n_estimators = 1 to 200 with interval of 20\n",
    "paramgrid = {'max_depth' : list(range(1,20,2)), 'n_estimators' : list(range(1,200,20))}\n",
    "grid_search = GridSearchCV(RandomForestClassifier(random_state = 21), paramgrid)"
   ]
  },
  {
   "cell_type": "markdown",
   "metadata": {},
   "source": [
    "## Best parameters estimated:\n",
    "    max_depth : 19\n",
    "    n_estimators : 141"
   ]
  },
  {
   "cell_type": "markdown",
   "metadata": {},
   "source": [
    "rf_adasyn_final =RandomForestClassifier(random_state=21,max_depth= 19 ,min_samples_split= 2 ,n_estimators= 141,\n",
    "                                          min_samples_leaf=1,  criterion='gini')\n",
    "rf_adasyn_final.fit(X_adasyn_st_train, y_adasyn_st_train)\n",
    "y_rf = rf_adasyn_final.predict(X_adasyn_st_test)"
   ]
  },
  {
   "cell_type": "markdown",
   "metadata": {},
   "source": [
    "<a id = '9'></a>"
   ]
  },
  {
   "cell_type": "markdown",
   "metadata": {},
   "source": [
    "# TEST DATA EVALUATION"
   ]
  },
  {
   "cell_type": "code",
   "execution_count": 66,
   "metadata": {},
   "outputs": [],
   "source": [
    "test_y = rf_adasyn.predict(test)"
   ]
  },
  {
   "cell_type": "code",
   "execution_count": 67,
   "metadata": {},
   "outputs": [],
   "source": [
    "submission_file = pd.DataFrame(test_y,index = test_ID,columns = ['m13'])"
   ]
  },
  {
   "cell_type": "code",
   "execution_count": 68,
   "metadata": {},
   "outputs": [
    {
     "data": {
      "text/html": [
       "<div>\n",
       "<style scoped>\n",
       "    .dataframe tbody tr th:only-of-type {\n",
       "        vertical-align: middle;\n",
       "    }\n",
       "\n",
       "    .dataframe tbody tr th {\n",
       "        vertical-align: top;\n",
       "    }\n",
       "\n",
       "    .dataframe thead th {\n",
       "        text-align: right;\n",
       "    }\n",
       "</style>\n",
       "<table border=\"1\" class=\"dataframe\">\n",
       "  <thead>\n",
       "    <tr style=\"text-align: right;\">\n",
       "      <th></th>\n",
       "      <th>m13</th>\n",
       "    </tr>\n",
       "    <tr>\n",
       "      <th>Unnamed: 0</th>\n",
       "      <th></th>\n",
       "    </tr>\n",
       "  </thead>\n",
       "  <tbody>\n",
       "    <tr>\n",
       "      <td>68426</td>\n",
       "      <td>0</td>\n",
       "    </tr>\n",
       "    <tr>\n",
       "      <td>49544</td>\n",
       "      <td>0</td>\n",
       "    </tr>\n",
       "    <tr>\n",
       "      <td>96751</td>\n",
       "      <td>0</td>\n",
       "    </tr>\n",
       "    <tr>\n",
       "      <td>112058</td>\n",
       "      <td>0</td>\n",
       "    </tr>\n",
       "    <tr>\n",
       "      <td>85610</td>\n",
       "      <td>0</td>\n",
       "    </tr>\n",
       "  </tbody>\n",
       "</table>\n",
       "</div>"
      ],
      "text/plain": [
       "            m13\n",
       "Unnamed: 0     \n",
       "68426         0\n",
       "49544         0\n",
       "96751         0\n",
       "112058        0\n",
       "85610         0"
      ]
     },
     "execution_count": 68,
     "metadata": {},
     "output_type": "execute_result"
    }
   ],
   "source": [
    "submission_file.head()"
   ]
  },
  {
   "cell_type": "code",
   "execution_count": 69,
   "metadata": {},
   "outputs": [],
   "source": [
    "submission_file.to_csv('submission_file.csv', index = True)"
   ]
  }
 ],
 "metadata": {
  "kernelspec": {
   "display_name": "Python 3",
   "language": "python",
   "name": "python3"
  },
  "language_info": {
   "codemirror_mode": {
    "name": "ipython",
    "version": 3
   },
   "file_extension": ".py",
   "mimetype": "text/x-python",
   "name": "python",
   "nbconvert_exporter": "python",
   "pygments_lexer": "ipython3",
   "version": "3.7.4"
  }
 },
 "nbformat": 4,
 "nbformat_minor": 2
}
